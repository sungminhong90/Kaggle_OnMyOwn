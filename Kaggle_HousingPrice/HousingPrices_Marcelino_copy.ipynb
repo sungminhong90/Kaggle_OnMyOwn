{
  "nbformat": 4,
  "nbformat_minor": 0,
  "metadata": {
    "colab": {
      "name": "HousingPrices_Marcelino_copy.ipynb",
      "provenance": []
    },
    "kernelspec": {
      "name": "python3",
      "display_name": "Python 3"
    },
    "accelerator": "GPU"
  },
  "cells": [
    {
      "cell_type": "code",
      "metadata": {
        "id": "bMGbUI-ThCVv",
        "colab_type": "code",
        "colab": {}
      },
      "source": [
        "import numpy as np\n",
        "import pandas as pd\n",
        "\n",
        "import matplotlib.pyplot as plt\n",
        "\n",
        "import seaborn as sns\n",
        "color = sns.color_palette()\n",
        "sns.set_style('darkgrid')\n",
        "\n",
        "import warnings\n",
        "def ignore_warn(*arg, **kwargs):\n",
        "  pass\n",
        "warnings.warn = ignore_warn\n",
        "\n",
        "from scipy import stats\n",
        "from scipy.stats import norm, skew\n",
        "from sklearn.preprocessing import StandardScaler\n",
        "\n",
        "pd.set_option('display.float_format', lambda x: '{:.2f}'.format(x))\n",
        "\n",
        "# from subprocess import check_output\n",
        "# print(check_output([\"ls\", \"../input\"]).decode(\"utf8\"))\n",
        "\n",
        "%matplotlib inline"
      ],
      "execution_count": 0,
      "outputs": []
    },
    {
      "cell_type": "code",
      "metadata": {
        "id": "uI7B8ASEkoE5",
        "colab_type": "code",
        "colab": {}
      },
      "source": [
        "train = pd.read_csv('train.csv')\n",
        "test = pd.read_csv('test.csv')"
      ],
      "execution_count": 0,
      "outputs": []
    },
    {
      "cell_type": "code",
      "metadata": {
        "id": "N-ti04Zdl2R-",
        "colab_type": "code",
        "colab": {
          "base_uri": "https://localhost:8080/",
          "height": 247
        },
        "outputId": "5284935f-b018-4a56-beb8-855fa47782cc"
      },
      "source": [
        "train.head()"
      ],
      "execution_count": 26,
      "outputs": [
        {
          "output_type": "execute_result",
          "data": {
            "text/html": [
              "<div>\n",
              "<style scoped>\n",
              "    .dataframe tbody tr th:only-of-type {\n",
              "        vertical-align: middle;\n",
              "    }\n",
              "\n",
              "    .dataframe tbody tr th {\n",
              "        vertical-align: top;\n",
              "    }\n",
              "\n",
              "    .dataframe thead th {\n",
              "        text-align: right;\n",
              "    }\n",
              "</style>\n",
              "<table border=\"1\" class=\"dataframe\">\n",
              "  <thead>\n",
              "    <tr style=\"text-align: right;\">\n",
              "      <th></th>\n",
              "      <th>Id</th>\n",
              "      <th>MSSubClass</th>\n",
              "      <th>MSZoning</th>\n",
              "      <th>LotFrontage</th>\n",
              "      <th>LotArea</th>\n",
              "      <th>Street</th>\n",
              "      <th>Alley</th>\n",
              "      <th>LotShape</th>\n",
              "      <th>LandContour</th>\n",
              "      <th>Utilities</th>\n",
              "      <th>LotConfig</th>\n",
              "      <th>LandSlope</th>\n",
              "      <th>Neighborhood</th>\n",
              "      <th>Condition1</th>\n",
              "      <th>Condition2</th>\n",
              "      <th>BldgType</th>\n",
              "      <th>HouseStyle</th>\n",
              "      <th>OverallQual</th>\n",
              "      <th>OverallCond</th>\n",
              "      <th>YearBuilt</th>\n",
              "      <th>YearRemodAdd</th>\n",
              "      <th>RoofStyle</th>\n",
              "      <th>RoofMatl</th>\n",
              "      <th>Exterior1st</th>\n",
              "      <th>Exterior2nd</th>\n",
              "      <th>MasVnrType</th>\n",
              "      <th>MasVnrArea</th>\n",
              "      <th>ExterQual</th>\n",
              "      <th>ExterCond</th>\n",
              "      <th>Foundation</th>\n",
              "      <th>BsmtQual</th>\n",
              "      <th>BsmtCond</th>\n",
              "      <th>BsmtExposure</th>\n",
              "      <th>BsmtFinType1</th>\n",
              "      <th>BsmtFinSF1</th>\n",
              "      <th>BsmtFinType2</th>\n",
              "      <th>BsmtFinSF2</th>\n",
              "      <th>BsmtUnfSF</th>\n",
              "      <th>TotalBsmtSF</th>\n",
              "      <th>Heating</th>\n",
              "      <th>...</th>\n",
              "      <th>CentralAir</th>\n",
              "      <th>Electrical</th>\n",
              "      <th>1stFlrSF</th>\n",
              "      <th>2ndFlrSF</th>\n",
              "      <th>LowQualFinSF</th>\n",
              "      <th>GrLivArea</th>\n",
              "      <th>BsmtFullBath</th>\n",
              "      <th>BsmtHalfBath</th>\n",
              "      <th>FullBath</th>\n",
              "      <th>HalfBath</th>\n",
              "      <th>BedroomAbvGr</th>\n",
              "      <th>KitchenAbvGr</th>\n",
              "      <th>KitchenQual</th>\n",
              "      <th>TotRmsAbvGrd</th>\n",
              "      <th>Functional</th>\n",
              "      <th>Fireplaces</th>\n",
              "      <th>FireplaceQu</th>\n",
              "      <th>GarageType</th>\n",
              "      <th>GarageYrBlt</th>\n",
              "      <th>GarageFinish</th>\n",
              "      <th>GarageCars</th>\n",
              "      <th>GarageArea</th>\n",
              "      <th>GarageQual</th>\n",
              "      <th>GarageCond</th>\n",
              "      <th>PavedDrive</th>\n",
              "      <th>WoodDeckSF</th>\n",
              "      <th>OpenPorchSF</th>\n",
              "      <th>EnclosedPorch</th>\n",
              "      <th>3SsnPorch</th>\n",
              "      <th>ScreenPorch</th>\n",
              "      <th>PoolArea</th>\n",
              "      <th>PoolQC</th>\n",
              "      <th>Fence</th>\n",
              "      <th>MiscFeature</th>\n",
              "      <th>MiscVal</th>\n",
              "      <th>MoSold</th>\n",
              "      <th>YrSold</th>\n",
              "      <th>SaleType</th>\n",
              "      <th>SaleCondition</th>\n",
              "      <th>SalePrice</th>\n",
              "    </tr>\n",
              "  </thead>\n",
              "  <tbody>\n",
              "    <tr>\n",
              "      <th>0</th>\n",
              "      <td>1</td>\n",
              "      <td>60</td>\n",
              "      <td>RL</td>\n",
              "      <td>65.00</td>\n",
              "      <td>8450</td>\n",
              "      <td>Pave</td>\n",
              "      <td>NaN</td>\n",
              "      <td>Reg</td>\n",
              "      <td>Lvl</td>\n",
              "      <td>AllPub</td>\n",
              "      <td>Inside</td>\n",
              "      <td>Gtl</td>\n",
              "      <td>CollgCr</td>\n",
              "      <td>Norm</td>\n",
              "      <td>Norm</td>\n",
              "      <td>1Fam</td>\n",
              "      <td>2Story</td>\n",
              "      <td>7</td>\n",
              "      <td>5</td>\n",
              "      <td>2003</td>\n",
              "      <td>2003</td>\n",
              "      <td>Gable</td>\n",
              "      <td>CompShg</td>\n",
              "      <td>VinylSd</td>\n",
              "      <td>VinylSd</td>\n",
              "      <td>BrkFace</td>\n",
              "      <td>196.00</td>\n",
              "      <td>Gd</td>\n",
              "      <td>TA</td>\n",
              "      <td>PConc</td>\n",
              "      <td>Gd</td>\n",
              "      <td>TA</td>\n",
              "      <td>No</td>\n",
              "      <td>GLQ</td>\n",
              "      <td>706</td>\n",
              "      <td>Unf</td>\n",
              "      <td>0</td>\n",
              "      <td>150</td>\n",
              "      <td>856</td>\n",
              "      <td>GasA</td>\n",
              "      <td>...</td>\n",
              "      <td>Y</td>\n",
              "      <td>SBrkr</td>\n",
              "      <td>856</td>\n",
              "      <td>854</td>\n",
              "      <td>0</td>\n",
              "      <td>1710</td>\n",
              "      <td>1</td>\n",
              "      <td>0</td>\n",
              "      <td>2</td>\n",
              "      <td>1</td>\n",
              "      <td>3</td>\n",
              "      <td>1</td>\n",
              "      <td>Gd</td>\n",
              "      <td>8</td>\n",
              "      <td>Typ</td>\n",
              "      <td>0</td>\n",
              "      <td>NaN</td>\n",
              "      <td>Attchd</td>\n",
              "      <td>2003.00</td>\n",
              "      <td>RFn</td>\n",
              "      <td>2</td>\n",
              "      <td>548</td>\n",
              "      <td>TA</td>\n",
              "      <td>TA</td>\n",
              "      <td>Y</td>\n",
              "      <td>0</td>\n",
              "      <td>61</td>\n",
              "      <td>0</td>\n",
              "      <td>0</td>\n",
              "      <td>0</td>\n",
              "      <td>0</td>\n",
              "      <td>NaN</td>\n",
              "      <td>NaN</td>\n",
              "      <td>NaN</td>\n",
              "      <td>0</td>\n",
              "      <td>2</td>\n",
              "      <td>2008</td>\n",
              "      <td>WD</td>\n",
              "      <td>Normal</td>\n",
              "      <td>208500</td>\n",
              "    </tr>\n",
              "    <tr>\n",
              "      <th>1</th>\n",
              "      <td>2</td>\n",
              "      <td>20</td>\n",
              "      <td>RL</td>\n",
              "      <td>80.00</td>\n",
              "      <td>9600</td>\n",
              "      <td>Pave</td>\n",
              "      <td>NaN</td>\n",
              "      <td>Reg</td>\n",
              "      <td>Lvl</td>\n",
              "      <td>AllPub</td>\n",
              "      <td>FR2</td>\n",
              "      <td>Gtl</td>\n",
              "      <td>Veenker</td>\n",
              "      <td>Feedr</td>\n",
              "      <td>Norm</td>\n",
              "      <td>1Fam</td>\n",
              "      <td>1Story</td>\n",
              "      <td>6</td>\n",
              "      <td>8</td>\n",
              "      <td>1976</td>\n",
              "      <td>1976</td>\n",
              "      <td>Gable</td>\n",
              "      <td>CompShg</td>\n",
              "      <td>MetalSd</td>\n",
              "      <td>MetalSd</td>\n",
              "      <td>None</td>\n",
              "      <td>0.00</td>\n",
              "      <td>TA</td>\n",
              "      <td>TA</td>\n",
              "      <td>CBlock</td>\n",
              "      <td>Gd</td>\n",
              "      <td>TA</td>\n",
              "      <td>Gd</td>\n",
              "      <td>ALQ</td>\n",
              "      <td>978</td>\n",
              "      <td>Unf</td>\n",
              "      <td>0</td>\n",
              "      <td>284</td>\n",
              "      <td>1262</td>\n",
              "      <td>GasA</td>\n",
              "      <td>...</td>\n",
              "      <td>Y</td>\n",
              "      <td>SBrkr</td>\n",
              "      <td>1262</td>\n",
              "      <td>0</td>\n",
              "      <td>0</td>\n",
              "      <td>1262</td>\n",
              "      <td>0</td>\n",
              "      <td>1</td>\n",
              "      <td>2</td>\n",
              "      <td>0</td>\n",
              "      <td>3</td>\n",
              "      <td>1</td>\n",
              "      <td>TA</td>\n",
              "      <td>6</td>\n",
              "      <td>Typ</td>\n",
              "      <td>1</td>\n",
              "      <td>TA</td>\n",
              "      <td>Attchd</td>\n",
              "      <td>1976.00</td>\n",
              "      <td>RFn</td>\n",
              "      <td>2</td>\n",
              "      <td>460</td>\n",
              "      <td>TA</td>\n",
              "      <td>TA</td>\n",
              "      <td>Y</td>\n",
              "      <td>298</td>\n",
              "      <td>0</td>\n",
              "      <td>0</td>\n",
              "      <td>0</td>\n",
              "      <td>0</td>\n",
              "      <td>0</td>\n",
              "      <td>NaN</td>\n",
              "      <td>NaN</td>\n",
              "      <td>NaN</td>\n",
              "      <td>0</td>\n",
              "      <td>5</td>\n",
              "      <td>2007</td>\n",
              "      <td>WD</td>\n",
              "      <td>Normal</td>\n",
              "      <td>181500</td>\n",
              "    </tr>\n",
              "    <tr>\n",
              "      <th>2</th>\n",
              "      <td>3</td>\n",
              "      <td>60</td>\n",
              "      <td>RL</td>\n",
              "      <td>68.00</td>\n",
              "      <td>11250</td>\n",
              "      <td>Pave</td>\n",
              "      <td>NaN</td>\n",
              "      <td>IR1</td>\n",
              "      <td>Lvl</td>\n",
              "      <td>AllPub</td>\n",
              "      <td>Inside</td>\n",
              "      <td>Gtl</td>\n",
              "      <td>CollgCr</td>\n",
              "      <td>Norm</td>\n",
              "      <td>Norm</td>\n",
              "      <td>1Fam</td>\n",
              "      <td>2Story</td>\n",
              "      <td>7</td>\n",
              "      <td>5</td>\n",
              "      <td>2001</td>\n",
              "      <td>2002</td>\n",
              "      <td>Gable</td>\n",
              "      <td>CompShg</td>\n",
              "      <td>VinylSd</td>\n",
              "      <td>VinylSd</td>\n",
              "      <td>BrkFace</td>\n",
              "      <td>162.00</td>\n",
              "      <td>Gd</td>\n",
              "      <td>TA</td>\n",
              "      <td>PConc</td>\n",
              "      <td>Gd</td>\n",
              "      <td>TA</td>\n",
              "      <td>Mn</td>\n",
              "      <td>GLQ</td>\n",
              "      <td>486</td>\n",
              "      <td>Unf</td>\n",
              "      <td>0</td>\n",
              "      <td>434</td>\n",
              "      <td>920</td>\n",
              "      <td>GasA</td>\n",
              "      <td>...</td>\n",
              "      <td>Y</td>\n",
              "      <td>SBrkr</td>\n",
              "      <td>920</td>\n",
              "      <td>866</td>\n",
              "      <td>0</td>\n",
              "      <td>1786</td>\n",
              "      <td>1</td>\n",
              "      <td>0</td>\n",
              "      <td>2</td>\n",
              "      <td>1</td>\n",
              "      <td>3</td>\n",
              "      <td>1</td>\n",
              "      <td>Gd</td>\n",
              "      <td>6</td>\n",
              "      <td>Typ</td>\n",
              "      <td>1</td>\n",
              "      <td>TA</td>\n",
              "      <td>Attchd</td>\n",
              "      <td>2001.00</td>\n",
              "      <td>RFn</td>\n",
              "      <td>2</td>\n",
              "      <td>608</td>\n",
              "      <td>TA</td>\n",
              "      <td>TA</td>\n",
              "      <td>Y</td>\n",
              "      <td>0</td>\n",
              "      <td>42</td>\n",
              "      <td>0</td>\n",
              "      <td>0</td>\n",
              "      <td>0</td>\n",
              "      <td>0</td>\n",
              "      <td>NaN</td>\n",
              "      <td>NaN</td>\n",
              "      <td>NaN</td>\n",
              "      <td>0</td>\n",
              "      <td>9</td>\n",
              "      <td>2008</td>\n",
              "      <td>WD</td>\n",
              "      <td>Normal</td>\n",
              "      <td>223500</td>\n",
              "    </tr>\n",
              "    <tr>\n",
              "      <th>3</th>\n",
              "      <td>4</td>\n",
              "      <td>70</td>\n",
              "      <td>RL</td>\n",
              "      <td>60.00</td>\n",
              "      <td>9550</td>\n",
              "      <td>Pave</td>\n",
              "      <td>NaN</td>\n",
              "      <td>IR1</td>\n",
              "      <td>Lvl</td>\n",
              "      <td>AllPub</td>\n",
              "      <td>Corner</td>\n",
              "      <td>Gtl</td>\n",
              "      <td>Crawfor</td>\n",
              "      <td>Norm</td>\n",
              "      <td>Norm</td>\n",
              "      <td>1Fam</td>\n",
              "      <td>2Story</td>\n",
              "      <td>7</td>\n",
              "      <td>5</td>\n",
              "      <td>1915</td>\n",
              "      <td>1970</td>\n",
              "      <td>Gable</td>\n",
              "      <td>CompShg</td>\n",
              "      <td>Wd Sdng</td>\n",
              "      <td>Wd Shng</td>\n",
              "      <td>None</td>\n",
              "      <td>0.00</td>\n",
              "      <td>TA</td>\n",
              "      <td>TA</td>\n",
              "      <td>BrkTil</td>\n",
              "      <td>TA</td>\n",
              "      <td>Gd</td>\n",
              "      <td>No</td>\n",
              "      <td>ALQ</td>\n",
              "      <td>216</td>\n",
              "      <td>Unf</td>\n",
              "      <td>0</td>\n",
              "      <td>540</td>\n",
              "      <td>756</td>\n",
              "      <td>GasA</td>\n",
              "      <td>...</td>\n",
              "      <td>Y</td>\n",
              "      <td>SBrkr</td>\n",
              "      <td>961</td>\n",
              "      <td>756</td>\n",
              "      <td>0</td>\n",
              "      <td>1717</td>\n",
              "      <td>1</td>\n",
              "      <td>0</td>\n",
              "      <td>1</td>\n",
              "      <td>0</td>\n",
              "      <td>3</td>\n",
              "      <td>1</td>\n",
              "      <td>Gd</td>\n",
              "      <td>7</td>\n",
              "      <td>Typ</td>\n",
              "      <td>1</td>\n",
              "      <td>Gd</td>\n",
              "      <td>Detchd</td>\n",
              "      <td>1998.00</td>\n",
              "      <td>Unf</td>\n",
              "      <td>3</td>\n",
              "      <td>642</td>\n",
              "      <td>TA</td>\n",
              "      <td>TA</td>\n",
              "      <td>Y</td>\n",
              "      <td>0</td>\n",
              "      <td>35</td>\n",
              "      <td>272</td>\n",
              "      <td>0</td>\n",
              "      <td>0</td>\n",
              "      <td>0</td>\n",
              "      <td>NaN</td>\n",
              "      <td>NaN</td>\n",
              "      <td>NaN</td>\n",
              "      <td>0</td>\n",
              "      <td>2</td>\n",
              "      <td>2006</td>\n",
              "      <td>WD</td>\n",
              "      <td>Abnorml</td>\n",
              "      <td>140000</td>\n",
              "    </tr>\n",
              "    <tr>\n",
              "      <th>4</th>\n",
              "      <td>5</td>\n",
              "      <td>60</td>\n",
              "      <td>RL</td>\n",
              "      <td>84.00</td>\n",
              "      <td>14260</td>\n",
              "      <td>Pave</td>\n",
              "      <td>NaN</td>\n",
              "      <td>IR1</td>\n",
              "      <td>Lvl</td>\n",
              "      <td>AllPub</td>\n",
              "      <td>FR2</td>\n",
              "      <td>Gtl</td>\n",
              "      <td>NoRidge</td>\n",
              "      <td>Norm</td>\n",
              "      <td>Norm</td>\n",
              "      <td>1Fam</td>\n",
              "      <td>2Story</td>\n",
              "      <td>8</td>\n",
              "      <td>5</td>\n",
              "      <td>2000</td>\n",
              "      <td>2000</td>\n",
              "      <td>Gable</td>\n",
              "      <td>CompShg</td>\n",
              "      <td>VinylSd</td>\n",
              "      <td>VinylSd</td>\n",
              "      <td>BrkFace</td>\n",
              "      <td>350.00</td>\n",
              "      <td>Gd</td>\n",
              "      <td>TA</td>\n",
              "      <td>PConc</td>\n",
              "      <td>Gd</td>\n",
              "      <td>TA</td>\n",
              "      <td>Av</td>\n",
              "      <td>GLQ</td>\n",
              "      <td>655</td>\n",
              "      <td>Unf</td>\n",
              "      <td>0</td>\n",
              "      <td>490</td>\n",
              "      <td>1145</td>\n",
              "      <td>GasA</td>\n",
              "      <td>...</td>\n",
              "      <td>Y</td>\n",
              "      <td>SBrkr</td>\n",
              "      <td>1145</td>\n",
              "      <td>1053</td>\n",
              "      <td>0</td>\n",
              "      <td>2198</td>\n",
              "      <td>1</td>\n",
              "      <td>0</td>\n",
              "      <td>2</td>\n",
              "      <td>1</td>\n",
              "      <td>4</td>\n",
              "      <td>1</td>\n",
              "      <td>Gd</td>\n",
              "      <td>9</td>\n",
              "      <td>Typ</td>\n",
              "      <td>1</td>\n",
              "      <td>TA</td>\n",
              "      <td>Attchd</td>\n",
              "      <td>2000.00</td>\n",
              "      <td>RFn</td>\n",
              "      <td>3</td>\n",
              "      <td>836</td>\n",
              "      <td>TA</td>\n",
              "      <td>TA</td>\n",
              "      <td>Y</td>\n",
              "      <td>192</td>\n",
              "      <td>84</td>\n",
              "      <td>0</td>\n",
              "      <td>0</td>\n",
              "      <td>0</td>\n",
              "      <td>0</td>\n",
              "      <td>NaN</td>\n",
              "      <td>NaN</td>\n",
              "      <td>NaN</td>\n",
              "      <td>0</td>\n",
              "      <td>12</td>\n",
              "      <td>2008</td>\n",
              "      <td>WD</td>\n",
              "      <td>Normal</td>\n",
              "      <td>250000</td>\n",
              "    </tr>\n",
              "  </tbody>\n",
              "</table>\n",
              "<p>5 rows × 81 columns</p>\n",
              "</div>"
            ],
            "text/plain": [
              "   Id  MSSubClass MSZoning  ...  SaleType  SaleCondition SalePrice\n",
              "0   1          60       RL  ...        WD         Normal    208500\n",
              "1   2          20       RL  ...        WD         Normal    181500\n",
              "2   3          60       RL  ...        WD         Normal    223500\n",
              "3   4          70       RL  ...        WD        Abnorml    140000\n",
              "4   5          60       RL  ...        WD         Normal    250000\n",
              "\n",
              "[5 rows x 81 columns]"
            ]
          },
          "metadata": {
            "tags": []
          },
          "execution_count": 26
        }
      ]
    },
    {
      "cell_type": "code",
      "metadata": {
        "id": "iRbut876lhqM",
        "colab_type": "code",
        "colab": {
          "base_uri": "https://localhost:8080/",
          "height": 307
        },
        "outputId": "8feda087-32d2-4922-cf01-7947200500c7"
      },
      "source": [
        "train.describe()"
      ],
      "execution_count": 27,
      "outputs": [
        {
          "output_type": "execute_result",
          "data": {
            "text/html": [
              "<div>\n",
              "<style scoped>\n",
              "    .dataframe tbody tr th:only-of-type {\n",
              "        vertical-align: middle;\n",
              "    }\n",
              "\n",
              "    .dataframe tbody tr th {\n",
              "        vertical-align: top;\n",
              "    }\n",
              "\n",
              "    .dataframe thead th {\n",
              "        text-align: right;\n",
              "    }\n",
              "</style>\n",
              "<table border=\"1\" class=\"dataframe\">\n",
              "  <thead>\n",
              "    <tr style=\"text-align: right;\">\n",
              "      <th></th>\n",
              "      <th>Id</th>\n",
              "      <th>MSSubClass</th>\n",
              "      <th>LotFrontage</th>\n",
              "      <th>LotArea</th>\n",
              "      <th>OverallQual</th>\n",
              "      <th>OverallCond</th>\n",
              "      <th>YearBuilt</th>\n",
              "      <th>YearRemodAdd</th>\n",
              "      <th>MasVnrArea</th>\n",
              "      <th>BsmtFinSF1</th>\n",
              "      <th>BsmtFinSF2</th>\n",
              "      <th>BsmtUnfSF</th>\n",
              "      <th>TotalBsmtSF</th>\n",
              "      <th>1stFlrSF</th>\n",
              "      <th>2ndFlrSF</th>\n",
              "      <th>LowQualFinSF</th>\n",
              "      <th>GrLivArea</th>\n",
              "      <th>BsmtFullBath</th>\n",
              "      <th>BsmtHalfBath</th>\n",
              "      <th>FullBath</th>\n",
              "      <th>HalfBath</th>\n",
              "      <th>BedroomAbvGr</th>\n",
              "      <th>KitchenAbvGr</th>\n",
              "      <th>TotRmsAbvGrd</th>\n",
              "      <th>Fireplaces</th>\n",
              "      <th>GarageYrBlt</th>\n",
              "      <th>GarageCars</th>\n",
              "      <th>GarageArea</th>\n",
              "      <th>WoodDeckSF</th>\n",
              "      <th>OpenPorchSF</th>\n",
              "      <th>EnclosedPorch</th>\n",
              "      <th>3SsnPorch</th>\n",
              "      <th>ScreenPorch</th>\n",
              "      <th>PoolArea</th>\n",
              "      <th>MiscVal</th>\n",
              "      <th>MoSold</th>\n",
              "      <th>YrSold</th>\n",
              "      <th>SalePrice</th>\n",
              "    </tr>\n",
              "  </thead>\n",
              "  <tbody>\n",
              "    <tr>\n",
              "      <th>count</th>\n",
              "      <td>1460.00</td>\n",
              "      <td>1460.00</td>\n",
              "      <td>1201.00</td>\n",
              "      <td>1460.00</td>\n",
              "      <td>1460.00</td>\n",
              "      <td>1460.00</td>\n",
              "      <td>1460.00</td>\n",
              "      <td>1460.00</td>\n",
              "      <td>1452.00</td>\n",
              "      <td>1460.00</td>\n",
              "      <td>1460.00</td>\n",
              "      <td>1460.00</td>\n",
              "      <td>1460.00</td>\n",
              "      <td>1460.00</td>\n",
              "      <td>1460.00</td>\n",
              "      <td>1460.00</td>\n",
              "      <td>1460.00</td>\n",
              "      <td>1460.00</td>\n",
              "      <td>1460.00</td>\n",
              "      <td>1460.00</td>\n",
              "      <td>1460.00</td>\n",
              "      <td>1460.00</td>\n",
              "      <td>1460.00</td>\n",
              "      <td>1460.00</td>\n",
              "      <td>1460.00</td>\n",
              "      <td>1379.00</td>\n",
              "      <td>1460.00</td>\n",
              "      <td>1460.00</td>\n",
              "      <td>1460.00</td>\n",
              "      <td>1460.00</td>\n",
              "      <td>1460.00</td>\n",
              "      <td>1460.00</td>\n",
              "      <td>1460.00</td>\n",
              "      <td>1460.00</td>\n",
              "      <td>1460.00</td>\n",
              "      <td>1460.00</td>\n",
              "      <td>1460.00</td>\n",
              "      <td>1460.00</td>\n",
              "    </tr>\n",
              "    <tr>\n",
              "      <th>mean</th>\n",
              "      <td>730.50</td>\n",
              "      <td>56.90</td>\n",
              "      <td>70.05</td>\n",
              "      <td>10516.83</td>\n",
              "      <td>6.10</td>\n",
              "      <td>5.58</td>\n",
              "      <td>1971.27</td>\n",
              "      <td>1984.87</td>\n",
              "      <td>103.69</td>\n",
              "      <td>443.64</td>\n",
              "      <td>46.55</td>\n",
              "      <td>567.24</td>\n",
              "      <td>1057.43</td>\n",
              "      <td>1162.63</td>\n",
              "      <td>346.99</td>\n",
              "      <td>5.84</td>\n",
              "      <td>1515.46</td>\n",
              "      <td>0.43</td>\n",
              "      <td>0.06</td>\n",
              "      <td>1.57</td>\n",
              "      <td>0.38</td>\n",
              "      <td>2.87</td>\n",
              "      <td>1.05</td>\n",
              "      <td>6.52</td>\n",
              "      <td>0.61</td>\n",
              "      <td>1978.51</td>\n",
              "      <td>1.77</td>\n",
              "      <td>472.98</td>\n",
              "      <td>94.24</td>\n",
              "      <td>46.66</td>\n",
              "      <td>21.95</td>\n",
              "      <td>3.41</td>\n",
              "      <td>15.06</td>\n",
              "      <td>2.76</td>\n",
              "      <td>43.49</td>\n",
              "      <td>6.32</td>\n",
              "      <td>2007.82</td>\n",
              "      <td>180921.20</td>\n",
              "    </tr>\n",
              "    <tr>\n",
              "      <th>std</th>\n",
              "      <td>421.61</td>\n",
              "      <td>42.30</td>\n",
              "      <td>24.28</td>\n",
              "      <td>9981.26</td>\n",
              "      <td>1.38</td>\n",
              "      <td>1.11</td>\n",
              "      <td>30.20</td>\n",
              "      <td>20.65</td>\n",
              "      <td>181.07</td>\n",
              "      <td>456.10</td>\n",
              "      <td>161.32</td>\n",
              "      <td>441.87</td>\n",
              "      <td>438.71</td>\n",
              "      <td>386.59</td>\n",
              "      <td>436.53</td>\n",
              "      <td>48.62</td>\n",
              "      <td>525.48</td>\n",
              "      <td>0.52</td>\n",
              "      <td>0.24</td>\n",
              "      <td>0.55</td>\n",
              "      <td>0.50</td>\n",
              "      <td>0.82</td>\n",
              "      <td>0.22</td>\n",
              "      <td>1.63</td>\n",
              "      <td>0.64</td>\n",
              "      <td>24.69</td>\n",
              "      <td>0.75</td>\n",
              "      <td>213.80</td>\n",
              "      <td>125.34</td>\n",
              "      <td>66.26</td>\n",
              "      <td>61.12</td>\n",
              "      <td>29.32</td>\n",
              "      <td>55.76</td>\n",
              "      <td>40.18</td>\n",
              "      <td>496.12</td>\n",
              "      <td>2.70</td>\n",
              "      <td>1.33</td>\n",
              "      <td>79442.50</td>\n",
              "    </tr>\n",
              "    <tr>\n",
              "      <th>min</th>\n",
              "      <td>1.00</td>\n",
              "      <td>20.00</td>\n",
              "      <td>21.00</td>\n",
              "      <td>1300.00</td>\n",
              "      <td>1.00</td>\n",
              "      <td>1.00</td>\n",
              "      <td>1872.00</td>\n",
              "      <td>1950.00</td>\n",
              "      <td>0.00</td>\n",
              "      <td>0.00</td>\n",
              "      <td>0.00</td>\n",
              "      <td>0.00</td>\n",
              "      <td>0.00</td>\n",
              "      <td>334.00</td>\n",
              "      <td>0.00</td>\n",
              "      <td>0.00</td>\n",
              "      <td>334.00</td>\n",
              "      <td>0.00</td>\n",
              "      <td>0.00</td>\n",
              "      <td>0.00</td>\n",
              "      <td>0.00</td>\n",
              "      <td>0.00</td>\n",
              "      <td>0.00</td>\n",
              "      <td>2.00</td>\n",
              "      <td>0.00</td>\n",
              "      <td>1900.00</td>\n",
              "      <td>0.00</td>\n",
              "      <td>0.00</td>\n",
              "      <td>0.00</td>\n",
              "      <td>0.00</td>\n",
              "      <td>0.00</td>\n",
              "      <td>0.00</td>\n",
              "      <td>0.00</td>\n",
              "      <td>0.00</td>\n",
              "      <td>0.00</td>\n",
              "      <td>1.00</td>\n",
              "      <td>2006.00</td>\n",
              "      <td>34900.00</td>\n",
              "    </tr>\n",
              "    <tr>\n",
              "      <th>25%</th>\n",
              "      <td>365.75</td>\n",
              "      <td>20.00</td>\n",
              "      <td>59.00</td>\n",
              "      <td>7553.50</td>\n",
              "      <td>5.00</td>\n",
              "      <td>5.00</td>\n",
              "      <td>1954.00</td>\n",
              "      <td>1967.00</td>\n",
              "      <td>0.00</td>\n",
              "      <td>0.00</td>\n",
              "      <td>0.00</td>\n",
              "      <td>223.00</td>\n",
              "      <td>795.75</td>\n",
              "      <td>882.00</td>\n",
              "      <td>0.00</td>\n",
              "      <td>0.00</td>\n",
              "      <td>1129.50</td>\n",
              "      <td>0.00</td>\n",
              "      <td>0.00</td>\n",
              "      <td>1.00</td>\n",
              "      <td>0.00</td>\n",
              "      <td>2.00</td>\n",
              "      <td>1.00</td>\n",
              "      <td>5.00</td>\n",
              "      <td>0.00</td>\n",
              "      <td>1961.00</td>\n",
              "      <td>1.00</td>\n",
              "      <td>334.50</td>\n",
              "      <td>0.00</td>\n",
              "      <td>0.00</td>\n",
              "      <td>0.00</td>\n",
              "      <td>0.00</td>\n",
              "      <td>0.00</td>\n",
              "      <td>0.00</td>\n",
              "      <td>0.00</td>\n",
              "      <td>5.00</td>\n",
              "      <td>2007.00</td>\n",
              "      <td>129975.00</td>\n",
              "    </tr>\n",
              "    <tr>\n",
              "      <th>50%</th>\n",
              "      <td>730.50</td>\n",
              "      <td>50.00</td>\n",
              "      <td>69.00</td>\n",
              "      <td>9478.50</td>\n",
              "      <td>6.00</td>\n",
              "      <td>5.00</td>\n",
              "      <td>1973.00</td>\n",
              "      <td>1994.00</td>\n",
              "      <td>0.00</td>\n",
              "      <td>383.50</td>\n",
              "      <td>0.00</td>\n",
              "      <td>477.50</td>\n",
              "      <td>991.50</td>\n",
              "      <td>1087.00</td>\n",
              "      <td>0.00</td>\n",
              "      <td>0.00</td>\n",
              "      <td>1464.00</td>\n",
              "      <td>0.00</td>\n",
              "      <td>0.00</td>\n",
              "      <td>2.00</td>\n",
              "      <td>0.00</td>\n",
              "      <td>3.00</td>\n",
              "      <td>1.00</td>\n",
              "      <td>6.00</td>\n",
              "      <td>1.00</td>\n",
              "      <td>1980.00</td>\n",
              "      <td>2.00</td>\n",
              "      <td>480.00</td>\n",
              "      <td>0.00</td>\n",
              "      <td>25.00</td>\n",
              "      <td>0.00</td>\n",
              "      <td>0.00</td>\n",
              "      <td>0.00</td>\n",
              "      <td>0.00</td>\n",
              "      <td>0.00</td>\n",
              "      <td>6.00</td>\n",
              "      <td>2008.00</td>\n",
              "      <td>163000.00</td>\n",
              "    </tr>\n",
              "    <tr>\n",
              "      <th>75%</th>\n",
              "      <td>1095.25</td>\n",
              "      <td>70.00</td>\n",
              "      <td>80.00</td>\n",
              "      <td>11601.50</td>\n",
              "      <td>7.00</td>\n",
              "      <td>6.00</td>\n",
              "      <td>2000.00</td>\n",
              "      <td>2004.00</td>\n",
              "      <td>166.00</td>\n",
              "      <td>712.25</td>\n",
              "      <td>0.00</td>\n",
              "      <td>808.00</td>\n",
              "      <td>1298.25</td>\n",
              "      <td>1391.25</td>\n",
              "      <td>728.00</td>\n",
              "      <td>0.00</td>\n",
              "      <td>1776.75</td>\n",
              "      <td>1.00</td>\n",
              "      <td>0.00</td>\n",
              "      <td>2.00</td>\n",
              "      <td>1.00</td>\n",
              "      <td>3.00</td>\n",
              "      <td>1.00</td>\n",
              "      <td>7.00</td>\n",
              "      <td>1.00</td>\n",
              "      <td>2002.00</td>\n",
              "      <td>2.00</td>\n",
              "      <td>576.00</td>\n",
              "      <td>168.00</td>\n",
              "      <td>68.00</td>\n",
              "      <td>0.00</td>\n",
              "      <td>0.00</td>\n",
              "      <td>0.00</td>\n",
              "      <td>0.00</td>\n",
              "      <td>0.00</td>\n",
              "      <td>8.00</td>\n",
              "      <td>2009.00</td>\n",
              "      <td>214000.00</td>\n",
              "    </tr>\n",
              "    <tr>\n",
              "      <th>max</th>\n",
              "      <td>1460.00</td>\n",
              "      <td>190.00</td>\n",
              "      <td>313.00</td>\n",
              "      <td>215245.00</td>\n",
              "      <td>10.00</td>\n",
              "      <td>9.00</td>\n",
              "      <td>2010.00</td>\n",
              "      <td>2010.00</td>\n",
              "      <td>1600.00</td>\n",
              "      <td>5644.00</td>\n",
              "      <td>1474.00</td>\n",
              "      <td>2336.00</td>\n",
              "      <td>6110.00</td>\n",
              "      <td>4692.00</td>\n",
              "      <td>2065.00</td>\n",
              "      <td>572.00</td>\n",
              "      <td>5642.00</td>\n",
              "      <td>3.00</td>\n",
              "      <td>2.00</td>\n",
              "      <td>3.00</td>\n",
              "      <td>2.00</td>\n",
              "      <td>8.00</td>\n",
              "      <td>3.00</td>\n",
              "      <td>14.00</td>\n",
              "      <td>3.00</td>\n",
              "      <td>2010.00</td>\n",
              "      <td>4.00</td>\n",
              "      <td>1418.00</td>\n",
              "      <td>857.00</td>\n",
              "      <td>547.00</td>\n",
              "      <td>552.00</td>\n",
              "      <td>508.00</td>\n",
              "      <td>480.00</td>\n",
              "      <td>738.00</td>\n",
              "      <td>15500.00</td>\n",
              "      <td>12.00</td>\n",
              "      <td>2010.00</td>\n",
              "      <td>755000.00</td>\n",
              "    </tr>\n",
              "  </tbody>\n",
              "</table>\n",
              "</div>"
            ],
            "text/plain": [
              "           Id  MSSubClass  LotFrontage  ...  MoSold  YrSold  SalePrice\n",
              "count 1460.00     1460.00      1201.00  ... 1460.00 1460.00    1460.00\n",
              "mean   730.50       56.90        70.05  ...    6.32 2007.82  180921.20\n",
              "std    421.61       42.30        24.28  ...    2.70    1.33   79442.50\n",
              "min      1.00       20.00        21.00  ...    1.00 2006.00   34900.00\n",
              "25%    365.75       20.00        59.00  ...    5.00 2007.00  129975.00\n",
              "50%    730.50       50.00        69.00  ...    6.00 2008.00  163000.00\n",
              "75%   1095.25       70.00        80.00  ...    8.00 2009.00  214000.00\n",
              "max   1460.00      190.00       313.00  ...   12.00 2010.00  755000.00\n",
              "\n",
              "[8 rows x 38 columns]"
            ]
          },
          "metadata": {
            "tags": []
          },
          "execution_count": 27
        }
      ]
    },
    {
      "cell_type": "code",
      "metadata": {
        "id": "mmMvc-OdljYP",
        "colab_type": "code",
        "colab": {
          "base_uri": "https://localhost:8080/",
          "height": 317
        },
        "outputId": "e3f2f0a9-4ea7-4f31-e8b0-167d8d09b62d"
      },
      "source": [
        "train.columns"
      ],
      "execution_count": 28,
      "outputs": [
        {
          "output_type": "execute_result",
          "data": {
            "text/plain": [
              "Index(['Id', 'MSSubClass', 'MSZoning', 'LotFrontage', 'LotArea', 'Street',\n",
              "       'Alley', 'LotShape', 'LandContour', 'Utilities', 'LotConfig',\n",
              "       'LandSlope', 'Neighborhood', 'Condition1', 'Condition2', 'BldgType',\n",
              "       'HouseStyle', 'OverallQual', 'OverallCond', 'YearBuilt', 'YearRemodAdd',\n",
              "       'RoofStyle', 'RoofMatl', 'Exterior1st', 'Exterior2nd', 'MasVnrType',\n",
              "       'MasVnrArea', 'ExterQual', 'ExterCond', 'Foundation', 'BsmtQual',\n",
              "       'BsmtCond', 'BsmtExposure', 'BsmtFinType1', 'BsmtFinSF1',\n",
              "       'BsmtFinType2', 'BsmtFinSF2', 'BsmtUnfSF', 'TotalBsmtSF', 'Heating',\n",
              "       'HeatingQC', 'CentralAir', 'Electrical', '1stFlrSF', '2ndFlrSF',\n",
              "       'LowQualFinSF', 'GrLivArea', 'BsmtFullBath', 'BsmtHalfBath', 'FullBath',\n",
              "       'HalfBath', 'BedroomAbvGr', 'KitchenAbvGr', 'KitchenQual',\n",
              "       'TotRmsAbvGrd', 'Functional', 'Fireplaces', 'FireplaceQu', 'GarageType',\n",
              "       'GarageYrBlt', 'GarageFinish', 'GarageCars', 'GarageArea', 'GarageQual',\n",
              "       'GarageCond', 'PavedDrive', 'WoodDeckSF', 'OpenPorchSF',\n",
              "       'EnclosedPorch', '3SsnPorch', 'ScreenPorch', 'PoolArea', 'PoolQC',\n",
              "       'Fence', 'MiscFeature', 'MiscVal', 'MoSold', 'YrSold', 'SaleType',\n",
              "       'SaleCondition', 'SalePrice'],\n",
              "      dtype='object')"
            ]
          },
          "metadata": {
            "tags": []
          },
          "execution_count": 28
        }
      ]
    },
    {
      "cell_type": "code",
      "metadata": {
        "id": "wYYuDg4Blk3h",
        "colab_type": "code",
        "colab": {
          "base_uri": "https://localhost:8080/",
          "height": 33
        },
        "outputId": "850afdc6-baf8-419e-928a-10f57d039dc4"
      },
      "source": [
        "len(train.columns)"
      ],
      "execution_count": 29,
      "outputs": [
        {
          "output_type": "execute_result",
          "data": {
            "text/plain": [
              "81"
            ]
          },
          "metadata": {
            "tags": []
          },
          "execution_count": 29
        }
      ]
    },
    {
      "cell_type": "code",
      "metadata": {
        "id": "mplvN6Kvlm5F",
        "colab_type": "code",
        "colab": {
          "base_uri": "https://localhost:8080/",
          "height": 317
        },
        "outputId": "15abeb48-063e-4596-f4f0-2e298e76df83"
      },
      "source": [
        "test.columns"
      ],
      "execution_count": 30,
      "outputs": [
        {
          "output_type": "execute_result",
          "data": {
            "text/plain": [
              "Index(['Id', 'MSSubClass', 'MSZoning', 'LotFrontage', 'LotArea', 'Street',\n",
              "       'Alley', 'LotShape', 'LandContour', 'Utilities', 'LotConfig',\n",
              "       'LandSlope', 'Neighborhood', 'Condition1', 'Condition2', 'BldgType',\n",
              "       'HouseStyle', 'OverallQual', 'OverallCond', 'YearBuilt', 'YearRemodAdd',\n",
              "       'RoofStyle', 'RoofMatl', 'Exterior1st', 'Exterior2nd', 'MasVnrType',\n",
              "       'MasVnrArea', 'ExterQual', 'ExterCond', 'Foundation', 'BsmtQual',\n",
              "       'BsmtCond', 'BsmtExposure', 'BsmtFinType1', 'BsmtFinSF1',\n",
              "       'BsmtFinType2', 'BsmtFinSF2', 'BsmtUnfSF', 'TotalBsmtSF', 'Heating',\n",
              "       'HeatingQC', 'CentralAir', 'Electrical', '1stFlrSF', '2ndFlrSF',\n",
              "       'LowQualFinSF', 'GrLivArea', 'BsmtFullBath', 'BsmtHalfBath', 'FullBath',\n",
              "       'HalfBath', 'BedroomAbvGr', 'KitchenAbvGr', 'KitchenQual',\n",
              "       'TotRmsAbvGrd', 'Functional', 'Fireplaces', 'FireplaceQu', 'GarageType',\n",
              "       'GarageYrBlt', 'GarageFinish', 'GarageCars', 'GarageArea', 'GarageQual',\n",
              "       'GarageCond', 'PavedDrive', 'WoodDeckSF', 'OpenPorchSF',\n",
              "       'EnclosedPorch', '3SsnPorch', 'ScreenPorch', 'PoolArea', 'PoolQC',\n",
              "       'Fence', 'MiscFeature', 'MiscVal', 'MoSold', 'YrSold', 'SaleType',\n",
              "       'SaleCondition'],\n",
              "      dtype='object')"
            ]
          },
          "metadata": {
            "tags": []
          },
          "execution_count": 30
        }
      ]
    },
    {
      "cell_type": "code",
      "metadata": {
        "id": "n7Tp4Qvflsrx",
        "colab_type": "code",
        "colab": {}
      },
      "source": [
        "## Missing Sales Price -> This sould be the target"
      ],
      "execution_count": 0,
      "outputs": []
    },
    {
      "cell_type": "code",
      "metadata": {
        "id": "2dWF4yywl6_I",
        "colab_type": "code",
        "colab": {
          "base_uri": "https://localhost:8080/",
          "height": 50
        },
        "outputId": "a41aa689-3c60-4f78-ff2f-1d4a1fc7fb21"
      },
      "source": [
        "print('Train Data Shape Before Dropping : {}'.format(train.shape))\n",
        "print('Test Data Shape Before Dropping : {}'.format(test.shape))"
      ],
      "execution_count": 32,
      "outputs": [
        {
          "output_type": "stream",
          "text": [
            "Train Data Shape Before Dropping : (1460, 81)\n",
            "Test Data Shape Before Dropping : (1459, 80)\n"
          ],
          "name": "stdout"
        }
      ]
    },
    {
      "cell_type": "code",
      "metadata": {
        "id": "VM_OzLd1mf3Z",
        "colab_type": "code",
        "colab": {}
      },
      "source": [
        "# save ID column\n",
        "train_ID = train['Id']\n",
        "test_ID = test['Id']"
      ],
      "execution_count": 0,
      "outputs": []
    },
    {
      "cell_type": "code",
      "metadata": {
        "id": "CSg2vAwRmobm",
        "colab_type": "code",
        "colab": {}
      },
      "source": [
        "# DROP ABOVE SINCE ITS UNNECESSARY\n",
        "train.drop('Id', axis=1, inplace=True)\n",
        "test.drop('Id', axis=1, inplace=True)"
      ],
      "execution_count": 0,
      "outputs": []
    },
    {
      "cell_type": "code",
      "metadata": {
        "id": "uG-OyuOimx3S",
        "colab_type": "code",
        "colab": {
          "base_uri": "https://localhost:8080/",
          "height": 50
        },
        "outputId": "27e3a445-40c3-46fa-f40f-a6494249e2ef"
      },
      "source": [
        "# CHECKING-\n",
        "\n",
        "print('Train Data Size After Dropping: {}'.format(train.shape))\n",
        "print('Test Data Size After Dropping: {}'.format(test.shape))"
      ],
      "execution_count": 35,
      "outputs": [
        {
          "output_type": "stream",
          "text": [
            "Train Data Size After Dropping: (1460, 80)\n",
            "Test Data Size After Dropping: (1459, 79)\n"
          ],
          "name": "stdout"
        }
      ]
    },
    {
      "cell_type": "markdown",
      "metadata": {
        "id": "bq_Ajr9ynNFk",
        "colab_type": "text"
      },
      "source": [
        "## Data Processing\n",
        "### Outliers -> I don't think I would look for outliers (link inactivated for documentation-)"
      ]
    },
    {
      "cell_type": "code",
      "metadata": {
        "id": "VwQomjL1nVsl",
        "colab_type": "code",
        "colab": {
          "base_uri": "https://localhost:8080/",
          "height": 283
        },
        "outputId": "461396d6-e586-4677-d209-ff03a2c69b7f"
      },
      "source": [
        "fig, ax = plt.subplots()\n",
        "\n",
        "ax.scatter(x=train['GrLivArea'], y=train['SalePrice'])\n",
        "\n",
        "plt.ylabel('Sales Price', fontsize=11)\n",
        "plt.xlabel('GrLivArea', fontsize=11)\n",
        "\n",
        "plt.show()"
      ],
      "execution_count": 36,
      "outputs": [
        {
          "output_type": "display_data",
          "data": {
            "image/png": "[encoded data removed]",
            "text/plain": [
              "<Figure size 432x288 with 1 Axes>"
            ]
          },
          "metadata": {
            "tags": []
          }
        }
      ]
    },
    {
      "cell_type": "code",
      "metadata": {
        "id": "d8oS8K50oV2m",
        "colab_type": "code",
        "colab": {}
      },
      "source": [
        "## dots on bottom rightside -> outliers! should delete it before digging in-"
      ],
      "execution_count": 0,
      "outputs": []
    },
    {
      "cell_type": "code",
      "metadata": {
        "id": "u0PfD-6SoKaY",
        "colab_type": "code",
        "colab": {}
      },
      "source": [
        "# Deleting them- but WHY index at the back?????\n",
        "train = train.drop(train[(train['GrLivArea']>4000) & (train['SalePrice']<300000)].index)"
      ],
      "execution_count": 0,
      "outputs": []
    },
    {
      "cell_type": "code",
      "metadata": {
        "id": "gZBoqLrXsQl2",
        "colab_type": "code",
        "colab": {
          "base_uri": "https://localhost:8080/",
          "height": 83
        },
        "outputId": "aabd1e47-03f7-4833-9f36-490cfe1e2451"
      },
      "source": [
        "train.index"
      ],
      "execution_count": 39,
      "outputs": [
        {
          "output_type": "execute_result",
          "data": {
            "text/plain": [
              "Int64Index([   0,    1,    2,    3,    4,    5,    6,    7,    8,    9,\n",
              "            ...\n",
              "            1450, 1451, 1452, 1453, 1454, 1455, 1456, 1457, 1458, 1459],\n",
              "           dtype='int64', length=1458)"
            ]
          },
          "metadata": {
            "tags": []
          },
          "execution_count": 39
        }
      ]
    },
    {
      "cell_type": "code",
      "metadata": {
        "id": "BlfzglfluVsH",
        "colab_type": "code",
        "colab": {
          "base_uri": "https://localhost:8080/",
          "height": 286
        },
        "outputId": "5a7a0e82-3ee7-47fe-b501-b81a20df5427"
      },
      "source": [
        "#Check the graphic again\n",
        "fig, ax = plt.subplots()\n",
        "ax.scatter(train['GrLivArea'], train['SalePrice'])\n",
        "plt.ylabel('SalePrice', fontsize=13)\n",
        "plt.xlabel('GrLivArea', fontsize=13)\n",
        "plt.show()"
      ],
      "execution_count": 40,
      "outputs": [
        {
          "output_type": "display_data",
          "data": {
            "image/png": "[encoded data removed]",
            "text/plain": [
              "<Figure size 432x288 with 1 Axes>"
            ]
          },
          "metadata": {
            "tags": []
          }
        }
      ]
    },
    {
      "cell_type": "markdown",
      "metadata": {
        "id": "x-HbEd9rsWH8",
        "colab_type": "text"
      },
      "source": [
        "### Target Variable"
      ]
    },
    {
      "cell_type": "code",
      "metadata": {
        "id": "YzU9QhLkt_lH",
        "colab_type": "code",
        "colab": {
          "base_uri": "https://localhost:8080/",
          "height": 623
        },
        "outputId": "5afbb2bd-2e6b-495f-b07d-8da970186f5b"
      },
      "source": [
        "sns.distplot(train['SalePrice'] , fit=norm);\n",
        "\n",
        "# Get the fitted parameters used by the function\n",
        "(mu, sigma) = norm.fit(train['SalePrice'])\n",
        "print( '\\n mu = {:.2f} and sigma = {:.2f}\\n'.format(mu, sigma))\n",
        "\n",
        "#Now plot the distribution\n",
        "plt.legend(['Normal dist. ($\\mu=$ {:.2f} and $\\sigma=$ {:.2f} )'.format(mu, sigma)],\n",
        "            loc='best')\n",
        "plt.ylabel('Frequency')\n",
        "plt.title('SalePrice distribution')\n",
        "\n",
        "#Get also the QQ-plot\n",
        "fig = plt.figure()\n",
        "res = stats.probplot(train['SalePrice'], plot=plt)\n",
        "plt.show()"
      ],
      "execution_count": 43,
      "outputs": [
        {
          "output_type": "stream",
          "text": [
            "\n",
            " mu = 180932.92 and sigma = 79467.79\n",
            "\n"
          ],
          "name": "stdout"
        },
        {
          "output_type": "display_data",
          "data": {
            "image/png": "[encoded data removed]",
            "text/plain": [
              "<Figure size 432x288 with 1 Axes>"
            ]
          },
          "metadata": {
            "tags": []
          }
        },
        {
          "output_type": "display_data",
          "data": {
            "image/png": "[encoded data removed]",
            "text/plain": [
              "<Figure size 432x288 with 1 Axes>"
            ]
          },
          "metadata": {
            "tags": []
          }
        }
      ]
    },
    {
      "cell_type": "code",
      "metadata": {
        "id": "_lm8hEflu7rC",
        "colab_type": "code",
        "colab": {}
      },
      "source": [
        "# 그래프가 너무 왼쪽으로 치우쳐졌음-"
      ],
      "execution_count": 0,
      "outputs": []
    },
    {
      "cell_type": "markdown",
      "metadata": {
        "id": "q_xc4BH5v4Gp",
        "colab_type": "text"
      },
      "source": [
        "### Log-transformation of the target variable"
      ]
    },
    {
      "cell_type": "code",
      "metadata": {
        "id": "Mi7V2zoIv74v",
        "colab_type": "code",
        "colab": {
          "base_uri": "https://localhost:8080/",
          "height": 623
        },
        "outputId": "57e15f07-236c-447f-a2c4-87d1228d1ebb"
      },
      "source": [
        "train['SalePrice'] = np.log1p(train['SalePrice'])\n",
        "\n",
        "#check the new distribution\n",
        "\n",
        "sns.distplot(train['SalePrice'], fit=norm);\n",
        "\n",
        "# get the fitted parameters used by the function\n",
        "(mu, sigma) = norm.fit(train['SalePrice'])\n",
        "print( '\\n mu = {:.2f} and sigma = {:.2f}\\n'.format(mu, sigma))\n",
        "\n",
        "# Plt the distribution\n",
        "plt.legend(['Normal dist. ($\\mu$ {:.2f} and $\\sigma=${:.2f})'.format(mu, sigma)],loc = 'best')\n",
        "\n",
        "plt.ylabel('Frequency')\n",
        "plt.title('SalePrice Distribution')\n",
        "\n",
        "# Get also the QQ plot\n",
        "fig = plt.figure()\n",
        "res = stats.probplot(train['SalePrice'], plot=plt)\n",
        "plt.show()"
      ],
      "execution_count": 52,
      "outputs": [
        {
          "output_type": "stream",
          "text": [
            "\n",
            " mu = 0.38 and sigma = 0.00\n",
            "\n"
          ],
          "name": "stdout"
        },
        {
          "output_type": "display_data",
          "data": {
            "image/png": "[encoded data removed]",
            "text/plain": [
              "<Figure size 432x288 with 1 Axes>"
            ]
          },
          "metadata": {
            "tags": []
          }
        },
        {
          "output_type": "display_data",
          "data": {
            "image/png": "[encoded data removed]",
            "text/plain": [
              "<Figure size 432x288 with 1 Axes>"
            ]
          },
          "metadata": {
            "tags": []
          }
        }
      ]
    },
    {
      "cell_type": "markdown",
      "metadata": {
        "id": "M5UWrq9PwHaE",
        "colab_type": "text"
      },
      "source": [
        "### Feature Engineering"
      ]
    },
    {
      "cell_type": "code",
      "metadata": {
        "id": "7Nrx5fPxxFAg",
        "colab_type": "code",
        "colab": {
          "base_uri": "https://localhost:8080/",
          "height": 33
        },
        "outputId": "beee4372-092c-4530-be27-1d4e638a8826"
      },
      "source": [
        "ntrain=train.shape[0]\n",
        "ntest = test.shape[0]\n",
        "\n",
        "y_train = train.SalePrice.values\n",
        "all_data = pd.concat((train, test)).reset_index(drop=True)\n",
        "\n",
        "all_data.drop(['SalePrice'], axis=1, inplace=True)\n",
        "\n",
        "print(\"all_data size is :{}\".format(all_data.shape))"
      ],
      "execution_count": 53,
      "outputs": [
        {
          "output_type": "stream",
          "text": [
            "all_data size is :(2917, 79)\n"
          ],
          "name": "stdout"
        }
      ]
    },
    {
      "cell_type": "markdown",
      "metadata": {
        "id": "EXS_OFu8xqU9",
        "colab_type": "text"
      },
      "source": [
        "Missing Data"
      ]
    },
    {
      "cell_type": "code",
      "metadata": {
        "id": "XE8pxNdbxtuW",
        "colab_type": "code",
        "colab": {
          "base_uri": "https://localhost:8080/",
          "height": 647
        },
        "outputId": "e57a4362-f8ce-4919-dfc1-89e6ea929aed"
      },
      "source": [
        "### 2번째 줄 이해 안감 - 앞과 마찬가지. df['A'].index 형-\n",
        "all_data_na = (all_data.isnull().sum()/len(all_data))*100\n",
        "\n",
        "all_data_na = all_data_na.drop(all_data_na[all_data_na == 0].index).sort_values(ascending=False)[:30]\n",
        "\n",
        "missing_data = pd.DataFrame({'Missing Ratio' : all_data_na})\n",
        "\n",
        "missing_data.head(20)"
      ],
      "execution_count": 57,
      "outputs": [
        {
          "output_type": "execute_result",
          "data": {
            "text/html": [
              "<div>\n",
              "<style scoped>\n",
              "    .dataframe tbody tr th:only-of-type {\n",
              "        vertical-align: middle;\n",
              "    }\n",
              "\n",
              "    .dataframe tbody tr th {\n",
              "        vertical-align: top;\n",
              "    }\n",
              "\n",
              "    .dataframe thead th {\n",
              "        text-align: right;\n",
              "    }\n",
              "</style>\n",
              "<table border=\"1\" class=\"dataframe\">\n",
              "  <thead>\n",
              "    <tr style=\"text-align: right;\">\n",
              "      <th></th>\n",
              "      <th>Missing Ratio</th>\n",
              "    </tr>\n",
              "  </thead>\n",
              "  <tbody>\n",
              "    <tr>\n",
              "      <th>PoolQC</th>\n",
              "      <td>99.69</td>\n",
              "    </tr>\n",
              "    <tr>\n",
              "      <th>MiscFeature</th>\n",
              "      <td>96.40</td>\n",
              "    </tr>\n",
              "    <tr>\n",
              "      <th>Alley</th>\n",
              "      <td>93.21</td>\n",
              "    </tr>\n",
              "    <tr>\n",
              "      <th>Fence</th>\n",
              "      <td>80.43</td>\n",
              "    </tr>\n",
              "    <tr>\n",
              "      <th>FireplaceQu</th>\n",
              "      <td>48.68</td>\n",
              "    </tr>\n",
              "    <tr>\n",
              "      <th>LotFrontage</th>\n",
              "      <td>16.66</td>\n",
              "    </tr>\n",
              "    <tr>\n",
              "      <th>GarageQual</th>\n",
              "      <td>5.45</td>\n",
              "    </tr>\n",
              "    <tr>\n",
              "      <th>GarageCond</th>\n",
              "      <td>5.45</td>\n",
              "    </tr>\n",
              "    <tr>\n",
              "      <th>GarageFinish</th>\n",
              "      <td>5.45</td>\n",
              "    </tr>\n",
              "    <tr>\n",
              "      <th>GarageYrBlt</th>\n",
              "      <td>5.45</td>\n",
              "    </tr>\n",
              "    <tr>\n",
              "      <th>GarageType</th>\n",
              "      <td>5.38</td>\n",
              "    </tr>\n",
              "    <tr>\n",
              "      <th>BsmtExposure</th>\n",
              "      <td>2.81</td>\n",
              "    </tr>\n",
              "    <tr>\n",
              "      <th>BsmtCond</th>\n",
              "      <td>2.81</td>\n",
              "    </tr>\n",
              "    <tr>\n",
              "      <th>BsmtQual</th>\n",
              "      <td>2.78</td>\n",
              "    </tr>\n",
              "    <tr>\n",
              "      <th>BsmtFinType2</th>\n",
              "      <td>2.74</td>\n",
              "    </tr>\n",
              "    <tr>\n",
              "      <th>BsmtFinType1</th>\n",
              "      <td>2.71</td>\n",
              "    </tr>\n",
              "    <tr>\n",
              "      <th>MasVnrType</th>\n",
              "      <td>0.82</td>\n",
              "    </tr>\n",
              "    <tr>\n",
              "      <th>MasVnrArea</th>\n",
              "      <td>0.79</td>\n",
              "    </tr>\n",
              "    <tr>\n",
              "      <th>MSZoning</th>\n",
              "      <td>0.14</td>\n",
              "    </tr>\n",
              "    <tr>\n",
              "      <th>BsmtFullBath</th>\n",
              "      <td>0.07</td>\n",
              "    </tr>\n",
              "  </tbody>\n",
              "</table>\n",
              "</div>"
            ],
            "text/plain": [
              "              Missing Ratio\n",
              "PoolQC                99.69\n",
              "MiscFeature           96.40\n",
              "Alley                 93.21\n",
              "Fence                 80.43\n",
              "FireplaceQu           48.68\n",
              "LotFrontage           16.66\n",
              "GarageQual             5.45\n",
              "GarageCond             5.45\n",
              "GarageFinish           5.45\n",
              "GarageYrBlt            5.45\n",
              "GarageType             5.38\n",
              "BsmtExposure           2.81\n",
              "BsmtCond               2.81\n",
              "BsmtQual               2.78\n",
              "BsmtFinType2           2.74\n",
              "BsmtFinType1           2.71\n",
              "MasVnrType             0.82\n",
              "MasVnrArea             0.79\n",
              "MSZoning               0.14\n",
              "BsmtFullBath           0.07"
            ]
          },
          "metadata": {
            "tags": []
          },
          "execution_count": 57
        }
      ]
    },
    {
      "cell_type": "code",
      "metadata": {
        "id": "GgGRMUlOySDJ",
        "colab_type": "code",
        "colab": {
          "base_uri": "https://localhost:8080/",
          "height": 836
        },
        "outputId": "bf1c12a0-a0cf-497b-895d-390c25632923"
      },
      "source": [
        "f, ax = plt.subplots(figsize=(15,12))\n",
        "plt.xticks(rotation='90')\n",
        "sns.barplot(x=all_data_na.index, y=all_data_na)\n",
        "plt.xlabel('Features', fontsize=15)\n",
        "plt.ylabel('Percent of Missing Values', fontsize=15)\n",
        "plt.title('Percent Missing Data by Feature', fontsize=15)"
      ],
      "execution_count": 58,
      "outputs": [
        {
          "output_type": "execute_result",
          "data": {
            "text/plain": [
              "Text(0.5, 1.0, 'Percent Missing Data by Feature')"
            ]
          },
          "metadata": {
            "tags": []
          },
          "execution_count": 58
        },
        {
          "output_type": "display_data",
          "data": {
            "image/png": "[encoded data removed]",
            "text/plain": [
              "<Figure size 1080x864 with 1 Axes>"
            ]
          },
          "metadata": {
            "tags": []
          }
        }
      ]
    },
    {
      "cell_type": "markdown",
      "metadata": {
        "id": "hflTIWE6yyy6",
        "colab_type": "text"
      },
      "source": [
        "### Data Correlation"
      ]
    },
    {
      "cell_type": "code",
      "metadata": {
        "id": "-lOo78rby4hk",
        "colab_type": "code",
        "colab": {
          "base_uri": "https://localhost:8080/",
          "height": 645
        },
        "outputId": "ace156b1-733e-4a07-8231-8e043458783c"
      },
      "source": [
        "corrmat = train.corr()\n",
        "plt.subplots(figsize=(12,9))\n",
        "sns.heatmap(corrmat, vmax=0.9, square=True)"
      ],
      "execution_count": 59,
      "outputs": [
        {
          "output_type": "execute_result",
          "data": {
            "text/plain": [
              "<matplotlib.axes._subplots.AxesSubplot at 0x7fbeb9a37f60>"
            ]
          },
          "metadata": {
            "tags": []
          },
          "execution_count": 59
        },
        {
          "output_type": "display_data",
          "data": {
            "image/png": "[encoded data removed]",
            "text/plain": [
              "<Figure size 864x648 with 2 Axes>"
            ]
          },
          "metadata": {
            "tags": []
          }
        }
      ]
    },
    {
      "cell_type": "code",
      "metadata": {
        "id": "gQ0c3k0NzV02",
        "colab_type": "code",
        "colab": {
          "base_uri": "https://localhost:8080/",
          "height": 645
        },
        "outputId": "45729fbb-fa5d-4555-f65c-d59448016173"
      },
      "source": [
        "corrmat = train.corr()\n",
        "plt.subplots(figsize=(12,9))\n",
        "sns.heatmap(corrmat, vmax=0.5, square=False)"
      ],
      "execution_count": 61,
      "outputs": [
        {
          "output_type": "execute_result",
          "data": {
            "text/plain": [
              "<matplotlib.axes._subplots.AxesSubplot at 0x7fbeba105dd8>"
            ]
          },
          "metadata": {
            "tags": []
          },
          "execution_count": 61
        },
        {
          "output_type": "display_data",
          "data": {
            "image/png": "[encoded data removed]",
            "text/plain": [
              "<Figure size 864x648 with 2 Axes>"
            ]
          },
          "metadata": {
            "tags": []
          }
        }
      ]
    },
    {
      "cell_type": "markdown",
      "metadata": {
        "id": "NENQ1xx7zaBw",
        "colab_type": "text"
      },
      "source": [
        "Missing Value Input"
      ]
    },
    {
      "cell_type": "code",
      "metadata": {
        "id": "dPWRHLSezjgz",
        "colab_type": "code",
        "colab": {}
      },
      "source": [
        "### PoolQC -> 99% missing data->'NONE'"
      ],
      "execution_count": 0,
      "outputs": []
    },
    {
      "cell_type": "code",
      "metadata": {
        "id": "CnpYSKAP0Orw",
        "colab_type": "code",
        "colab": {}
      },
      "source": [
        "all_data['PoolQC'] = all_data['PoolQC'].fillna('None')"
      ],
      "execution_count": 0,
      "outputs": []
    },
    {
      "cell_type": "code",
      "metadata": {
        "id": "UxNCuRb10aJa",
        "colab_type": "code",
        "colab": {}
      },
      "source": [
        "all_data['MiscFeature'] = all_data['MiscFeature'].fillna('None')"
      ],
      "execution_count": 0,
      "outputs": []
    },
    {
      "cell_type": "code",
      "metadata": {
        "id": "TC42ccVh0mol",
        "colab_type": "code",
        "colab": {}
      },
      "source": [
        "all_data['Alley'] = all_data['Alley'].fillna('None')"
      ],
      "execution_count": 0,
      "outputs": []
    },
    {
      "cell_type": "code",
      "metadata": {
        "id": "gPWGhgCa0rFI",
        "colab_type": "code",
        "colab": {}
      },
      "source": [
        "all_data['Fence'] = all_data['Fence'].fillna('None')"
      ],
      "execution_count": 0,
      "outputs": []
    },
    {
      "cell_type": "code",
      "metadata": {
        "id": "9VHPq75A0zdZ",
        "colab_type": "code",
        "colab": {}
      },
      "source": [
        "all_data['FireplaceQu'] = all_data['FireplaceQu'].fillna('None')"
      ],
      "execution_count": 0,
      "outputs": []
    },
    {
      "cell_type": "code",
      "metadata": {
        "id": "KOeuCf2N06av",
        "colab_type": "code",
        "colab": {}
      },
      "source": [
        "#LotFrontage -> fill in the issingvalue by the median LotFrontage of the neighborhood"
      ],
      "execution_count": 0,
      "outputs": []
    },
    {
      "cell_type": "code",
      "metadata": {
        "id": "VZ4ACOcr1F8_",
        "colab_type": "code",
        "colab": {}
      },
      "source": [
        "#Group by neighborhood and fill in missing value by the median LotFrontage of all the neighborhood\n",
        "\n",
        "all_data['LotFrontage'] = all_data.groupby('Neighborhood')['LotFrontage'].transform(lambda x: x.fillna(x.median()))"
      ],
      "execution_count": 0,
      "outputs": []
    },
    {
      "cell_type": "code",
      "metadata": {
        "id": "zIykogVF1krO",
        "colab_type": "code",
        "colab": {}
      },
      "source": [
        "for col in ('GarageType', 'GarageFinish', 'GarageQual', 'GarageCond'): all_data[col] = all_data[col].fillna('None')"
      ],
      "execution_count": 0,
      "outputs": []
    },
    {
      "cell_type": "code",
      "metadata": {
        "id": "93trMvRB1z1Q",
        "colab_type": "code",
        "colab": {}
      },
      "source": [
        "# No Garage = no cars! so GarageYrBlt, GarageArea and GarageCars to ZERO!!!"
      ],
      "execution_count": 0,
      "outputs": []
    },
    {
      "cell_type": "code",
      "metadata": {
        "id": "SS1TnSR91-MZ",
        "colab_type": "code",
        "colab": {}
      },
      "source": [
        "for col in ('GarageYrBlt', 'GarageArea', 'GarageCars'): all_data[col] = all_data[col].fillna(0)"
      ],
      "execution_count": 0,
      "outputs": []
    },
    {
      "cell_type": "code",
      "metadata": {
        "id": "a6LVPset2HJu",
        "colab_type": "code",
        "colab": {}
      },
      "source": [
        "# No BASEMENT->0"
      ],
      "execution_count": 0,
      "outputs": []
    },
    {
      "cell_type": "code",
      "metadata": {
        "id": "qm4Sfpqx2K_a",
        "colab_type": "code",
        "colab": {}
      },
      "source": [
        "for col in ('BsmtFinSF1', 'BsmtFinSF2', 'BsmtUnfSF','TotalBsmtSF', 'BsmtFullBath', 'BsmtHalfBath'): all_data[col] = all_data[col].fillna(0)"
      ],
      "execution_count": 0,
      "outputs": []
    },
    {
      "cell_type": "code",
      "metadata": {
        "id": "3b-ffO9Q2gnb",
        "colab_type": "code",
        "colab": {}
      },
      "source": [
        "for col in ('BsmtQual', 'BsmtCond', 'BsmtExposure', 'BsmtFinType1', 'BsmtFinType2'): all_data[col] = all_data[col].fillna('None')"
      ],
      "execution_count": 0,
      "outputs": []
    },
    {
      "cell_type": "code",
      "metadata": {
        "id": "uUwLbVZa2soi",
        "colab_type": "code",
        "colab": {}
      },
      "source": [
        "all_data['MasVnrType'] = all_data['MasVnrType'].fillna('None')\n",
        "all_data['MasVnrArea'] = all_data['MasVnrArea'].fillna(0)"
      ],
      "execution_count": 0,
      "outputs": []
    },
    {
      "cell_type": "code",
      "metadata": {
        "id": "pR0Z4Ems3MkH",
        "colab_type": "code",
        "colab": {}
      },
      "source": [
        "# since'RL' is the most common value, we can fill MSZoning na value with RL"
      ],
      "execution_count": 0,
      "outputs": []
    },
    {
      "cell_type": "code",
      "metadata": {
        "id": "eB4XHyOu3TmT",
        "colab_type": "code",
        "colab": {}
      },
      "source": [
        "# 이 식 잘 이해 안감..mode()[0]?????\n",
        "all_data['MSZoning'] = all_data['MSZoning'].fillna(all_data['MSZoning'].mode()[0])"
      ],
      "execution_count": 0,
      "outputs": []
    },
    {
      "cell_type": "code",
      "metadata": {
        "id": "2Pe8CKx03beh",
        "colab_type": "code",
        "colab": {}
      },
      "source": [
        "#Utilities : For this categorical feature all records are \"AllPub\", except for one \"NoSeWa\" and 2 NA . Since the house with 'NoSewa' is in the training set, this feature won't help in predictive modelling. We can then safely remove i"
      ],
      "execution_count": 0,
      "outputs": []
    },
    {
      "cell_type": "code",
      "metadata": {
        "id": "XDsX_bk43sMQ",
        "colab_type": "code",
        "colab": {
          "base_uri": "https://localhost:8080/",
          "height": 1000
        },
        "outputId": "a5fccc34-db3c-4ae9-cbda-d49dd45a9b5e"
      },
      "source": [
        "all_data['Utilities'].sort_values()"
      ],
      "execution_count": 83,
      "outputs": [
        {
          "output_type": "execute_result",
          "data": {
            "text/plain": [
              "0       AllPub\n",
              "1939    AllPub\n",
              "1940    AllPub\n",
              "1941    AllPub\n",
              "1942    AllPub\n",
              "1944    AllPub\n",
              "1945    AllPub\n",
              "1946    AllPub\n",
              "1947    AllPub\n",
              "1938    AllPub\n",
              "1948    AllPub\n",
              "1950    AllPub\n",
              "1951    AllPub\n",
              "1952    AllPub\n",
              "1953    AllPub\n",
              "1954    AllPub\n",
              "1955    AllPub\n",
              "1956    AllPub\n",
              "1957    AllPub\n",
              "1949    AllPub\n",
              "1937    AllPub\n",
              "1936    AllPub\n",
              "1935    AllPub\n",
              "1916    AllPub\n",
              "1917    AllPub\n",
              "1918    AllPub\n",
              "1919    AllPub\n",
              "1920    AllPub\n",
              "1921    AllPub\n",
              "1922    AllPub\n",
              "         ...  \n",
              "998     AllPub\n",
              "999     AllPub\n",
              "980     AllPub\n",
              "979     AllPub\n",
              "978     AllPub\n",
              "977     AllPub\n",
              "958     AllPub\n",
              "959     AllPub\n",
              "960     AllPub\n",
              "961     AllPub\n",
              "962     AllPub\n",
              "963     AllPub\n",
              "964     AllPub\n",
              "965     AllPub\n",
              "966     AllPub\n",
              "956     AllPub\n",
              "967     AllPub\n",
              "969     AllPub\n",
              "970     AllPub\n",
              "971     AllPub\n",
              "972     AllPub\n",
              "973     AllPub\n",
              "974     AllPub\n",
              "975     AllPub\n",
              "976     AllPub\n",
              "968     AllPub\n",
              "2916    AllPub\n",
              "943     NoSeWa\n",
              "1913       NaN\n",
              "1943       NaN\n",
              "Name: Utilities, Length: 2917, dtype: object"
            ]
          },
          "metadata": {
            "tags": []
          },
          "execution_count": 83
        }
      ]
    },
    {
      "cell_type": "code",
      "metadata": {
        "id": "f8E6xisL30La",
        "colab_type": "code",
        "colab": {}
      },
      "source": [
        "all_data = all_data.drop(['Utilities'], axis=1)"
      ],
      "execution_count": 0,
      "outputs": []
    },
    {
      "cell_type": "code",
      "metadata": {
        "id": "viQikdLB4FHZ",
        "colab_type": "code",
        "colab": {}
      },
      "source": [
        "all_data['Functional'] = all_data['Functional'].fillna('Typ')"
      ],
      "execution_count": 0,
      "outputs": []
    },
    {
      "cell_type": "code",
      "metadata": {
        "id": "18TjbcK94K7G",
        "colab_type": "code",
        "colab": {}
      },
      "source": [
        "all_data['Electrical'] = all_data['Electrical'].fillna(all_data['Electrical'].mode()[0])"
      ],
      "execution_count": 0,
      "outputs": []
    },
    {
      "cell_type": "code",
      "metadata": {
        "id": "uipxtZPx4TxL",
        "colab_type": "code",
        "colab": {}
      },
      "source": [
        "all_data['KitchenQual'] = all_data['KitchenQual'].fillna(all_data['KitchenQual'].mode()[0])"
      ],
      "execution_count": 0,
      "outputs": []
    },
    {
      "cell_type": "code",
      "metadata": {
        "id": "DkRen7dG4hn1",
        "colab_type": "code",
        "colab": {}
      },
      "source": [
        "all_data['Exterior1st'] = all_data['Exterior1st'].fillna(all_data['Exterior1st'].mode()[0])\n",
        "all_data['Exterior2nd'] = all_data['Exterior2nd'].fillna(all_data['Exterior2nd'].mode()[0])"
      ],
      "execution_count": 0,
      "outputs": []
    },
    {
      "cell_type": "code",
      "metadata": {
        "id": "Ci9Cwmy34wnn",
        "colab_type": "code",
        "colab": {}
      },
      "source": [
        "all_data['SaleType'] = all_data['SaleType'].fillna(all_data['SaleType'].mode()[0])"
      ],
      "execution_count": 0,
      "outputs": []
    },
    {
      "cell_type": "code",
      "metadata": {
        "id": "0roBTdG344Ic",
        "colab_type": "code",
        "colab": {}
      },
      "source": [
        "all_data['MSSubClass'] = all_data['MSSubClass'].fillna('None')"
      ],
      "execution_count": 0,
      "outputs": []
    },
    {
      "cell_type": "code",
      "metadata": {
        "id": "4hsCKZcX5Af1",
        "colab_type": "code",
        "colab": {}
      },
      "source": [
        "## any missing value left?"
      ],
      "execution_count": 0,
      "outputs": []
    },
    {
      "cell_type": "code",
      "metadata": {
        "id": "VrgcyU6Q5C-t",
        "colab_type": "code",
        "colab": {
          "base_uri": "https://localhost:8080/",
          "height": 1000
        },
        "outputId": "22801d60-4b64-4541-96b2-920a6c4de1f8"
      },
      "source": [
        "all_data.isnull().sum()"
      ],
      "execution_count": 92,
      "outputs": [
        {
          "output_type": "execute_result",
          "data": {
            "text/plain": [
              "1stFlrSF         0\n",
              "2ndFlrSF         0\n",
              "3SsnPorch        0\n",
              "Alley            0\n",
              "BedroomAbvGr     0\n",
              "BldgType         0\n",
              "BsmtCond         0\n",
              "BsmtExposure     0\n",
              "BsmtFinSF1       0\n",
              "BsmtFinSF2       0\n",
              "BsmtFinType1     0\n",
              "BsmtFinType2     0\n",
              "BsmtFullBath     0\n",
              "BsmtHalfBath     0\n",
              "BsmtQual         0\n",
              "BsmtUnfSF        0\n",
              "CentralAir       0\n",
              "Condition1       0\n",
              "Condition2       0\n",
              "Electrical       0\n",
              "EnclosedPorch    0\n",
              "ExterCond        0\n",
              "ExterQual        0\n",
              "Exterior1st      0\n",
              "Exterior2nd      0\n",
              "Fence            0\n",
              "FireplaceQu      0\n",
              "Fireplaces       0\n",
              "Foundation       0\n",
              "FullBath         0\n",
              "                ..\n",
              "LotConfig        0\n",
              "LotFrontage      0\n",
              "LotShape         0\n",
              "LowQualFinSF     0\n",
              "MSSubClass       0\n",
              "MSZoning         0\n",
              "MasVnrArea       0\n",
              "MasVnrType       0\n",
              "MiscFeature      0\n",
              "MiscVal          0\n",
              "MoSold           0\n",
              "Neighborhood     0\n",
              "OpenPorchSF      0\n",
              "OverallCond      0\n",
              "OverallQual      0\n",
              "PavedDrive       0\n",
              "PoolArea         0\n",
              "PoolQC           0\n",
              "RoofMatl         0\n",
              "RoofStyle        0\n",
              "SaleCondition    0\n",
              "SaleType         0\n",
              "ScreenPorch      0\n",
              "Street           0\n",
              "TotRmsAbvGrd     0\n",
              "TotalBsmtSF      0\n",
              "WoodDeckSF       0\n",
              "YearBuilt        0\n",
              "YearRemodAdd     0\n",
              "YrSold           0\n",
              "Length: 78, dtype: int64"
            ]
          },
          "metadata": {
            "tags": []
          },
          "execution_count": 92
        }
      ]
    },
    {
      "cell_type": "code",
      "metadata": {
        "id": "mjWJ172h5FID",
        "colab_type": "code",
        "colab": {
          "base_uri": "https://localhost:8080/",
          "height": 47
        },
        "outputId": "0549a47a-9153-48fb-f436-a6a968ea7d2a"
      },
      "source": [
        "all_data_na = (all_data.isnull().sum()/len(all_data))*100\n",
        "\n",
        "all_data_na = all_data_na.drop(all_data_na[all_data_na == 0].index).sort_values(ascending=False)\n",
        "missing_data = pd.DataFrame({'Missing Ratio' : all_data_na})\n",
        "missing_data.head()"
      ],
      "execution_count": 95,
      "outputs": [
        {
          "output_type": "execute_result",
          "data": {
            "text/html": [
              "<div>\n",
              "<style scoped>\n",
              "    .dataframe tbody tr th:only-of-type {\n",
              "        vertical-align: middle;\n",
              "    }\n",
              "\n",
              "    .dataframe tbody tr th {\n",
              "        vertical-align: top;\n",
              "    }\n",
              "\n",
              "    .dataframe thead th {\n",
              "        text-align: right;\n",
              "    }\n",
              "</style>\n",
              "<table border=\"1\" class=\"dataframe\">\n",
              "  <thead>\n",
              "    <tr style=\"text-align: right;\">\n",
              "      <th></th>\n",
              "      <th>Missing Ratio</th>\n",
              "    </tr>\n",
              "  </thead>\n",
              "  <tbody>\n",
              "  </tbody>\n",
              "</table>\n",
              "</div>"
            ],
            "text/plain": [
              "Empty DataFrame\n",
              "Columns: [Missing Ratio]\n",
              "Index: []"
            ]
          },
          "metadata": {
            "tags": []
          },
          "execution_count": 95
        }
      ]
    },
    {
      "cell_type": "markdown",
      "metadata": {
        "id": "aaVflFzc5oBd",
        "colab_type": "text"
      },
      "source": [
        "## More Features Engineering"
      ]
    },
    {
      "cell_type": "markdown",
      "metadata": {
        "id": "3Sfq6dsT52pQ",
        "colab_type": "text"
      },
      "source": [
        "### Transforming Some Numerical Variables That Are Really Categorical"
      ]
    },
    {
      "cell_type": "code",
      "metadata": {
        "id": "gnN-As6d59LC",
        "colab_type": "code",
        "colab": {}
      },
      "source": [
        "#MSSubClass=The building class\n",
        "all_data['MSSubClass'] = all_data['MSSubClass'].apply(str)\n",
        "\n",
        "#Changing OverallCond into a categorical variable\n",
        "all_data['OverallCond'] = all_data['OverallCond'].astype(str)\n",
        "\n",
        "#Year and month sold are transformed into categorical features.\n",
        "all_data['YrSold'] = all_data['YrSold'].astype(str)\n",
        "all_data['MoSold'] = all_data['MoSold'].astype(str)"
      ],
      "execution_count": 0,
      "outputs": []
    },
    {
      "cell_type": "markdown",
      "metadata": {
        "id": "mZPrYGCJ67-T",
        "colab_type": "text"
      },
      "source": [
        "### Label Encoding Application to Some Categorical Variables that may Contain Information in their Original Set"
      ]
    },
    {
      "cell_type": "code",
      "metadata": {
        "id": "PBswKRtz7GVk",
        "colab_type": "code",
        "colab": {}
      },
      "source": [
        "from sklearn.preprocessing import LabelEncoder"
      ],
      "execution_count": 0,
      "outputs": []
    },
    {
      "cell_type": "code",
      "metadata": {
        "id": "rrRThHPc7KZw",
        "colab_type": "code",
        "colab": {
          "base_uri": "https://localhost:8080/",
          "height": 33
        },
        "outputId": "a71f42f5-7f64-4803-e950-6cb1d9f52c5d"
      },
      "source": [
        "cols = ('FireplaceQu', 'BsmtQual', 'BsmtCond', 'GarageQual', 'GarageCond', \n",
        "        'ExterQual', 'ExterCond','HeatingQC', 'PoolQC', 'KitchenQual', 'BsmtFinType1', \n",
        "        'BsmtFinType2', 'Functional', 'Fence', 'BsmtExposure', 'GarageFinish', 'LandSlope',\n",
        "        'LotShape', 'PavedDrive', 'Street', 'Alley', 'CentralAir', 'MSSubClass', 'OverallCond', \n",
        "        'YrSold', 'MoSold')\n",
        "\n",
        "# process columns, apply LabelEncoder to categorical features\n",
        "\n",
        "for c in cols:\n",
        "  lbl = LabelEncoder()\n",
        "  lbl.fit(list(all_data[c].values))\n",
        "  all_data[c] = lbl.transform(list(all_data[c].values))\n",
        "  \n",
        "# shape\n",
        "print('Shape all_data: {}'.format(all_data.shape))"
      ],
      "execution_count": 98,
      "outputs": [
        {
          "output_type": "stream",
          "text": [
            "Shape all_data: (2917, 78)\n"
          ],
          "name": "stdout"
        }
      ]
    },
    {
      "cell_type": "markdown",
      "metadata": {
        "id": "sPAnqd838HZi",
        "colab_type": "text"
      },
      "source": [
        "### Adding One More Important Feaure"
      ]
    },
    {
      "cell_type": "code",
      "metadata": {
        "id": "6gLGRaS18Nvw",
        "colab_type": "code",
        "colab": {}
      },
      "source": [
        "# Adding total sqfootage feature\n",
        "all_data['TotalSF'] = all_data['TotalBsmtSF'] + all_data['1stFlrSF'] + all_data['2ndFlrSF']"
      ],
      "execution_count": 0,
      "outputs": []
    },
    {
      "cell_type": "markdown",
      "metadata": {
        "id": "LKPK8hm18aCk",
        "colab_type": "text"
      },
      "source": [
        "### Skewed Features -> 이건 왜 하는지 모르겠음.."
      ]
    },
    {
      "cell_type": "code",
      "metadata": {
        "id": "9FTuwzc88cwo",
        "colab_type": "code",
        "colab": {
          "base_uri": "https://localhost:8080/",
          "height": 233
        },
        "outputId": "0c5aef72-5624-42d2-fa92-76422a43c83b"
      },
      "source": [
        "numeric_feats = all_data.dtypes[all_data.dtypes != 'object'].index\n",
        "numeric_feats"
      ],
      "execution_count": 100,
      "outputs": [
        {
          "output_type": "execute_result",
          "data": {
            "text/plain": [
              "Index(['1stFlrSF', '2ndFlrSF', '3SsnPorch', 'Alley', 'BedroomAbvGr',\n",
              "       'BsmtCond', 'BsmtExposure', 'BsmtFinSF1', 'BsmtFinSF2', 'BsmtFinType1',\n",
              "       'BsmtFinType2', 'BsmtFullBath', 'BsmtHalfBath', 'BsmtQual', 'BsmtUnfSF',\n",
              "       'CentralAir', 'EnclosedPorch', 'ExterCond', 'ExterQual', 'Fence',\n",
              "       'FireplaceQu', 'Fireplaces', 'FullBath', 'Functional', 'GarageArea',\n",
              "       'GarageCars', 'GarageCond', 'GarageFinish', 'GarageQual', 'GarageYrBlt',\n",
              "       'GrLivArea', 'HalfBath', 'HeatingQC', 'KitchenAbvGr', 'KitchenQual',\n",
              "       'LandSlope', 'LotArea', 'LotFrontage', 'LotShape', 'LowQualFinSF',\n",
              "       'MSSubClass', 'MasVnrArea', 'MiscVal', 'MoSold', 'OpenPorchSF',\n",
              "       'OverallCond', 'OverallQual', 'PavedDrive', 'PoolArea', 'PoolQC',\n",
              "       'ScreenPorch', 'Street', 'TotRmsAbvGrd', 'TotalBsmtSF', 'WoodDeckSF',\n",
              "       'YearBuilt', 'YearRemodAdd', 'YrSold', 'TotalSF'],\n",
              "      dtype='object')"
            ]
          },
          "metadata": {
            "tags": []
          },
          "execution_count": 100
        }
      ]
    },
    {
      "cell_type": "code",
      "metadata": {
        "id": "yzz58yXT8x3b",
        "colab_type": "code",
        "colab": {
          "base_uri": "https://localhost:8080/",
          "height": 397
        },
        "outputId": "c52a6658-a8f8-49db-ad0e-71bfbb30e130"
      },
      "source": [
        "# check the skewness of all numerical features\n",
        "\n",
        "skewed_feats = all_data[numeric_feats].apply(lambda x: skew(x.dropna())).sort_values(ascending=False)\n",
        "print('\\n Skew in Numerical Features: \\n')\n",
        "\n",
        "skewness = pd.DataFrame({'Skew' : skewed_feats})\n",
        "skewness.head(10)"
      ],
      "execution_count": 101,
      "outputs": [
        {
          "output_type": "stream",
          "text": [
            "\n",
            " Skew in Numerical Features: \n",
            "\n"
          ],
          "name": "stdout"
        },
        {
          "output_type": "execute_result",
          "data": {
            "text/html": [
              "<div>\n",
              "<style scoped>\n",
              "    .dataframe tbody tr th:only-of-type {\n",
              "        vertical-align: middle;\n",
              "    }\n",
              "\n",
              "    .dataframe tbody tr th {\n",
              "        vertical-align: top;\n",
              "    }\n",
              "\n",
              "    .dataframe thead th {\n",
              "        text-align: right;\n",
              "    }\n",
              "</style>\n",
              "<table border=\"1\" class=\"dataframe\">\n",
              "  <thead>\n",
              "    <tr style=\"text-align: right;\">\n",
              "      <th></th>\n",
              "      <th>Skew</th>\n",
              "    </tr>\n",
              "  </thead>\n",
              "  <tbody>\n",
              "    <tr>\n",
              "      <th>MiscVal</th>\n",
              "      <td>21.94</td>\n",
              "    </tr>\n",
              "    <tr>\n",
              "      <th>PoolArea</th>\n",
              "      <td>17.69</td>\n",
              "    </tr>\n",
              "    <tr>\n",
              "      <th>LotArea</th>\n",
              "      <td>13.11</td>\n",
              "    </tr>\n",
              "    <tr>\n",
              "      <th>LowQualFinSF</th>\n",
              "      <td>12.08</td>\n",
              "    </tr>\n",
              "    <tr>\n",
              "      <th>3SsnPorch</th>\n",
              "      <td>11.37</td>\n",
              "    </tr>\n",
              "    <tr>\n",
              "      <th>LandSlope</th>\n",
              "      <td>4.97</td>\n",
              "    </tr>\n",
              "    <tr>\n",
              "      <th>KitchenAbvGr</th>\n",
              "      <td>4.30</td>\n",
              "    </tr>\n",
              "    <tr>\n",
              "      <th>BsmtFinSF2</th>\n",
              "      <td>4.14</td>\n",
              "    </tr>\n",
              "    <tr>\n",
              "      <th>EnclosedPorch</th>\n",
              "      <td>4.00</td>\n",
              "    </tr>\n",
              "    <tr>\n",
              "      <th>ScreenPorch</th>\n",
              "      <td>3.95</td>\n",
              "    </tr>\n",
              "  </tbody>\n",
              "</table>\n",
              "</div>"
            ],
            "text/plain": [
              "               Skew\n",
              "MiscVal       21.94\n",
              "PoolArea      17.69\n",
              "LotArea       13.11\n",
              "LowQualFinSF  12.08\n",
              "3SsnPorch     11.37\n",
              "LandSlope      4.97\n",
              "KitchenAbvGr   4.30\n",
              "BsmtFinSF2     4.14\n",
              "EnclosedPorch  4.00\n",
              "ScreenPorch    3.95"
            ]
          },
          "metadata": {
            "tags": []
          },
          "execution_count": 101
        }
      ]
    },
    {
      "cell_type": "markdown",
      "metadata": {
        "id": "EGnIvlrV9K3M",
        "colab_type": "text"
      },
      "source": [
        "### Box Cox Transformation of (highly) skewed features -> 이것도 잘 모르겠음;ㅣ"
      ]
    },
    {
      "cell_type": "code",
      "metadata": {
        "id": "QAkwZUD59VWM",
        "colab_type": "code",
        "colab": {
          "base_uri": "https://localhost:8080/",
          "height": 33
        },
        "outputId": "776ad4b8-59bf-4f69-d14e-f0eb083f102c"
      },
      "source": [
        "skewness = skewness[abs(skewness) >0.75]\n",
        "print('There are {} skewed numerical features to Box Cox transform'.format(skewness.shape[0]))"
      ],
      "execution_count": 102,
      "outputs": [
        {
          "output_type": "stream",
          "text": [
            "There are 59 skewed numerical features to Box Cox transform\n"
          ],
          "name": "stdout"
        }
      ]
    },
    {
      "cell_type": "code",
      "metadata": {
        "id": "fO5hFWx49o12",
        "colab_type": "code",
        "colab": {}
      },
      "source": [
        "from scipy.special import boxcox1p\n",
        "skewed_features = skewness.index\n",
        "lam = 0.15\n",
        "\n",
        "for feat in skewed_features:\n",
        "  all_data[feat] = boxcox1p(all_data[feat], lam)"
      ],
      "execution_count": 0,
      "outputs": []
    },
    {
      "cell_type": "markdown",
      "metadata": {
        "id": "AHCtrMFk9zve",
        "colab_type": "text"
      },
      "source": [
        "### Getting Dummy Categorical Features"
      ]
    },
    {
      "cell_type": "code",
      "metadata": {
        "id": "l3BOTYq193pM",
        "colab_type": "code",
        "colab": {
          "base_uri": "https://localhost:8080/",
          "height": 33
        },
        "outputId": "b1f56996-f388-4e55-d626-de3cab09309c"
      },
      "source": [
        "all_data = pd.get_dummies(all_data)\n",
        "print(all_data.shape)"
      ],
      "execution_count": 104,
      "outputs": [
        {
          "output_type": "stream",
          "text": [
            "(2917, 220)\n"
          ],
          "name": "stdout"
        }
      ]
    },
    {
      "cell_type": "markdown",
      "metadata": {
        "id": "8H8weWHX97vJ",
        "colab_type": "text"
      },
      "source": [
        "### Getting the new Train and Test Sets"
      ]
    },
    {
      "cell_type": "code",
      "metadata": {
        "id": "UpOPWM4Z-BuH",
        "colab_type": "code",
        "colab": {}
      },
      "source": [
        "train = all_data[:ntrain]\n",
        "test = all_data[ntrain:]"
      ],
      "execution_count": 0,
      "outputs": []
    },
    {
      "cell_type": "markdown",
      "metadata": {
        "id": "xaUwKsJr-QCG",
        "colab_type": "text"
      },
      "source": [
        "## Modeling\n",
        "### Importing Libraries"
      ]
    },
    {
      "cell_type": "code",
      "metadata": {
        "id": "7pZj9muL-TRW",
        "colab_type": "code",
        "colab": {}
      },
      "source": [
        "from sklearn.linear_model import ElasticNet, Lasso, BayesianRidge, LassoLarsIC\n",
        "from sklearn.ensemble import RandomForestRegressor, GradientBoostingRegressor\n",
        "from sklearn.kernel_ridge import KernelRidge\n",
        "from sklearn.pipeline import make_pipeline\n",
        "from sklearn.preprocessing import RobustScaler\n",
        "from sklearn.base import BaseEstimator, TransformerMixin, RegressorMixin, clone\n",
        "from sklearn.model_selection import KFold, cross_val_score, train_test_split\n",
        "from sklearn.metrics import mean_squared_error\n",
        "import xgboost as xgb\n",
        "import lightgbm as lgb"
      ],
      "execution_count": 0,
      "outputs": []
    },
    {
      "cell_type": "markdown",
      "metadata": {
        "id": "F8Bx2ayX-zPN",
        "colab_type": "text"
      },
      "source": [
        "### Define a Cross Validation Strategy"
      ]
    },
    {
      "cell_type": "code",
      "metadata": {
        "id": "LIxnybBz-53i",
        "colab_type": "code",
        "colab": {}
      },
      "source": [
        "# validation function\n",
        "\n",
        "n_folds = 5\n",
        "\n",
        "def rmsle_cv(model):\n",
        "  kf = KFold(n_folds, shuffle=True, random_state=42).get_n_splits(train.values)\n",
        "  rmse = np.sqrt(-cross_val_score(model, train.values, y_train, scoring='neg_mean_squared_error',\n",
        "                                 cv=kf))\n",
        "  return(rmse)"
      ],
      "execution_count": 0,
      "outputs": []
    },
    {
      "cell_type": "markdown",
      "metadata": {
        "id": "-B7HxRC9_TON",
        "colab_type": "text"
      },
      "source": [
        "### Base Models"
      ]
    },
    {
      "cell_type": "markdown",
      "metadata": {
        "id": "oTAeXTRT_V5s",
        "colab_type": "text"
      },
      "source": [
        "#### Lasso Regression -> sensitive to outliers\n"
      ]
    },
    {
      "cell_type": "code",
      "metadata": {
        "id": "87klta31_Ye2",
        "colab_type": "code",
        "colab": {}
      },
      "source": [
        "lasso = make_pipeline(RobustScaler(), Lasso(alpha=0.0005, random_state=1))"
      ],
      "execution_count": 0,
      "outputs": []
    },
    {
      "cell_type": "markdown",
      "metadata": {
        "id": "ZRPiGpOa_oVG",
        "colab_type": "text"
      },
      "source": [
        "#### Elastic Net Regression :\n",
        "again made robust to outliers"
      ]
    },
    {
      "cell_type": "code",
      "metadata": {
        "id": "reh9yj0-_ryq",
        "colab_type": "code",
        "colab": {}
      },
      "source": [
        "ENet = make_pipeline(RobustScaler(), ElasticNet(alpha=0.0005, l1_ratio=0.9, random_state=3))"
      ],
      "execution_count": 0,
      "outputs": []
    },
    {
      "cell_type": "markdown",
      "metadata": {
        "id": "GUdBSbuD_1zt",
        "colab_type": "text"
      },
      "source": [
        "#### Kernel Ridge Regression "
      ]
    },
    {
      "cell_type": "code",
      "metadata": {
        "id": "BEnksvfd_4SN",
        "colab_type": "code",
        "colab": {}
      },
      "source": [
        "KRR = KernelRidge(alpha=0.6, kernel='polynomial', degree=2, coef0=2.5)"
      ],
      "execution_count": 0,
      "outputs": []
    },
    {
      "cell_type": "markdown",
      "metadata": {
        "id": "5W434hle__AY",
        "colab_type": "text"
      },
      "source": [
        "#### Gradient Boosting Regression :\n",
        "With huber loss that makes it robust to outliers"
      ]
    },
    {
      "cell_type": "code",
      "metadata": {
        "id": "WJLgNM4ZAB10",
        "colab_type": "code",
        "colab": {}
      },
      "source": [
        "GBoost = GradientBoostingRegressor(n_estimators=3000, learning_rate=0.05,\n",
        "                                  max_depth=4, max_features='sqrt',\n",
        "                                  min_samples_leaf=15, min_samples_split=10,\n",
        "                                  loss='huber', random_state=5)"
      ],
      "execution_count": 0,
      "outputs": []
    },
    {
      "cell_type": "markdown",
      "metadata": {
        "id": "MOhFfuZbARe0",
        "colab_type": "text"
      },
      "source": [
        "#### XGBoost :"
      ]
    },
    {
      "cell_type": "code",
      "metadata": {
        "id": "xH_7BXzoAUkK",
        "colab_type": "code",
        "colab": {}
      },
      "source": [
        "model_xgb = xgb.XGBRegressor(colsample_bytree=0.4603, gamma=0.0468,\n",
        "                            learning_rate=0.05, max_depth=3,\n",
        "                            min_child_weight=1.7817, n_estimators=2200,\n",
        "                            reg_alpha=0.4640, reg_lambda=0.8571,\n",
        "                            subsample=0.5213, silent=1,\n",
        "                            random_state=7, nthread=-1)"
      ],
      "execution_count": 0,
      "outputs": []
    },
    {
      "cell_type": "markdown",
      "metadata": {
        "id": "dnsS6s4QAx02",
        "colab_type": "text"
      },
      "source": [
        "#### LightGBM :"
      ]
    },
    {
      "cell_type": "code",
      "metadata": {
        "id": "1_LenK8tA0B2",
        "colab_type": "code",
        "colab": {}
      },
      "source": [
        "model_lgb = lgb.LGBMRegressor(objective='regression',num_leaves=5,\n",
        "                              learning_rate=0.05, n_estimators=720,\n",
        "                              max_bin = 55, bagging_fraction = 0.8,\n",
        "                              bagging_freq = 5, feature_fraction = 0.2319,\n",
        "                              feature_fraction_seed=9, bagging_seed=9,\n",
        "                              min_data_in_leaf =6, min_sum_hessian_in_leaf = 11)"
      ],
      "execution_count": 0,
      "outputs": []
    },
    {
      "cell_type": "markdown",
      "metadata": {
        "id": "T75b7Nr3BKLh",
        "colab_type": "text"
      },
      "source": [
        "### Base Models Scores"
      ]
    },
    {
      "cell_type": "code",
      "metadata": {
        "id": "6fvedo6eBYsY",
        "colab_type": "code",
        "colab": {
          "base_uri": "https://localhost:8080/",
          "height": 67
        },
        "outputId": "2401a1c8-b2b7-443b-e98c-72e19bae51ea"
      },
      "source": [
        "score = rmsle_cv(lasso)\n",
        "print('\\nLasso score: {:.4f} ({:.4f})\\n'.format(score.mean(), score.std()))"
      ],
      "execution_count": 119,
      "outputs": [
        {
          "output_type": "stream",
          "text": [
            "\n",
            "Lasso score: 0.0008 (0.0000)\n",
            "\n"
          ],
          "name": "stdout"
        }
      ]
    },
    {
      "cell_type": "code",
      "metadata": {
        "id": "fprsBqJ3BtFk",
        "colab_type": "code",
        "colab": {
          "base_uri": "https://localhost:8080/",
          "height": 50
        },
        "outputId": "6fc30bf2-03b6-4652-f1f1-f1cd677518bb"
      },
      "source": [
        "score = rmsle_cv(ENet)\n",
        "print('ElasticNet score: {:.4f} ({:.4f})\\n'.format(score.mean(), score.std()))"
      ],
      "execution_count": 120,
      "outputs": [
        {
          "output_type": "stream",
          "text": [
            "ElasticNet score: 0.0008 (0.0000)\n",
            "\n"
          ],
          "name": "stdout"
        }
      ]
    },
    {
      "cell_type": "code",
      "metadata": {
        "id": "s-80-a5hCNCI",
        "colab_type": "code",
        "colab": {
          "base_uri": "https://localhost:8080/",
          "height": 50
        },
        "outputId": "1b7481ec-e449-4486-cfaf-e011e4be005f"
      },
      "source": [
        "score = rmsle_cv(KRR)\n",
        "print('Kernal Ridge Score: {:.4f} ({:.4f})\\n'.format(score.mean(), score.std()))"
      ],
      "execution_count": 121,
      "outputs": [
        {
          "output_type": "stream",
          "text": [
            "Kernal Ridge Score: 0.0008 (0.0001)\n",
            "\n"
          ],
          "name": "stdout"
        }
      ]
    },
    {
      "cell_type": "code",
      "metadata": {
        "id": "2uXoaNReCnup",
        "colab_type": "code",
        "colab": {
          "base_uri": "https://localhost:8080/",
          "height": 50
        },
        "outputId": "c1358ae8-4196-4baa-86ea-d6382d5f2aee"
      },
      "source": [
        "score = rmsle_cv(GBoost)\n",
        "print('Gradient Boosting Score: {:.4f} ({:.4f})\\n'.format(score.mean(), score.std()))"
      ],
      "execution_count": 122,
      "outputs": [
        {
          "output_type": "stream",
          "text": [
            "Gradient Boosting Score: 0.0004 (0.0000)\n",
            "\n"
          ],
          "name": "stdout"
        }
      ]
    },
    {
      "cell_type": "code",
      "metadata": {
        "id": "kHt6Vu2BC5cf",
        "colab_type": "code",
        "colab": {
          "base_uri": "https://localhost:8080/",
          "height": 50
        },
        "outputId": "43aff918-dcc2-472f-fa00-7c7a1ad2c604"
      },
      "source": [
        "score = rmsle_cv(model_xgb)\n",
        "print('Xgboost score: {:.4f} ({:.4f})\\n'.format(score.mean(), score.std()))"
      ],
      "execution_count": 123,
      "outputs": [
        {
          "output_type": "stream",
          "text": [
            "Xgboost score: 0.0011 (0.0000)\n",
            "\n"
          ],
          "name": "stdout"
        }
      ]
    },
    {
      "cell_type": "code",
      "metadata": {
        "id": "MmQDc-kEDHYe",
        "colab_type": "code",
        "colab": {
          "base_uri": "https://localhost:8080/",
          "height": 50
        },
        "outputId": "107a1e7c-046e-4bd8-a849-33fb3c7546b1"
      },
      "source": [
        "score = rmsle_cv(model_lgb)\n",
        "print(\"LGBM score: {:.4f} ({:.4f})\\n\".format(score.mean(), score.std()))"
      ],
      "execution_count": 125,
      "outputs": [
        {
          "output_type": "stream",
          "text": [
            "LGBM score: 0.0003 (0.0000)\n",
            "\n"
          ],
          "name": "stdout"
        }
      ]
    },
    {
      "cell_type": "markdown",
      "metadata": {
        "id": "xXw0ausUDYC9",
        "colab_type": "text"
      },
      "source": [
        "### Stacking Models"
      ]
    },
    {
      "cell_type": "markdown",
      "metadata": {
        "id": "cjyB-YNaDkt7",
        "colab_type": "text"
      },
      "source": [
        "#### Averaged Base Models Class"
      ]
    },
    {
      "cell_type": "code",
      "metadata": {
        "id": "antW9uG6D_ml",
        "colab_type": "code",
        "colab": {}
      },
      "source": [
        "class AveragingModels(BaseEstimator, RegressorMixin, TransformerMixin):\n",
        "  def __init__(self, models):\n",
        "    self.models = models\n",
        "    \n",
        "  def fit(self, X, y):\n",
        "    self.models_ = [clone(x) for x in self.models]\n",
        "    \n",
        "    for model in self.models_:\n",
        "      model.fit(X, y)\n",
        "      \n",
        "    return self\n",
        "  \n",
        "  \n",
        "  def predict(self, X):\n",
        "    predictions = np.column_stack([model.predict(X) for model in self.models_])\n",
        "    \n",
        "    return np.mean(predictions, axis=1)"
      ],
      "execution_count": 0,
      "outputs": []
    },
    {
      "cell_type": "markdown",
      "metadata": {
        "id": "qXxZ5fsFEk62",
        "colab_type": "text"
      },
      "source": [
        "#### Averaged Base Models Score"
      ]
    },
    {
      "cell_type": "code",
      "metadata": {
        "id": "ELn5PH-JEucC",
        "colab_type": "code",
        "colab": {
          "base_uri": "https://localhost:8080/",
          "height": 50
        },
        "outputId": "8f42a400-27b4-45fb-a6a8-9b61152595f5"
      },
      "source": [
        "averaged_models = AveragingModels(models = (ENet, GBoost, KRR, lasso))\n",
        "\n",
        "score = rmsle_cv(averaged_models)\n",
        "print('Averaged Base Models Score: {:.4f} ({:.4f})\\n'.format(score.mean(), score.std()))"
      ],
      "execution_count": 130,
      "outputs": [
        {
          "output_type": "stream",
          "text": [
            "Averaged Base Models Score: 0.0005 (0.0000)\n",
            "\n"
          ],
          "name": "stdout"
        }
      ]
    },
    {
      "cell_type": "markdown",
      "metadata": {
        "id": "HIt-d8B0E-08",
        "colab_type": "text"
      },
      "source": [
        "#### Less simple Stacking : Adding a Meta-model"
      ]
    },
    {
      "cell_type": "markdown",
      "metadata": {
        "id": "0uhQtTG8FLTa",
        "colab_type": "text"
      },
      "source": [
        "#### Stacking Averaged Models Class"
      ]
    },
    {
      "cell_type": "code",
      "metadata": {
        "id": "Qe88cRLPFlhn",
        "colab_type": "code",
        "colab": {}
      },
      "source": [
        "# class StackingAveragedModels(BaseEstimator, RegressorMixin, TransformerMixin):\n",
        "#   def __init__(self, base_models, meta_model, n_folds = 5):\n",
        "#     self.base_models = base_models\n",
        "#     self.meta_model = meta_model\n",
        "#     self.n_folds = n_folds\n",
        "    \n",
        "#   def fit(self, X, y):\n",
        "#     self.base_models_= [list() for x in self.base_models]\n",
        "#     self.meta_model_= clone(self.meta_model)\n",
        "#     kfold = KFold(n_splits=self.n_folds, shuffle=True, random_state=156)\n",
        "    \n",
        "#     out_of_fold_predictions = np.zeros((X.shape[0], len(self.base_models)))\n",
        "    \n",
        "#     for i, model in enumerate(self.base_models):\n",
        "#       for train_index, holdout_index in kfold.split(X, y):\n",
        "        \n",
        "#         instance = clone(model)\n",
        "#         self.base_models_[i].append(instance)\n",
        "#         instance.fit(X[train_index], y[train_index])\n",
        "#         y_pred = instance.predict(X[holdout_index])\n",
        "#         out_of_fold_predictions[holdout_index, i] = y_pred\n",
        "        \n",
        "#         self.meta_model_.fit(out_of_fold_predictions, y)\n",
        "#         return self\n",
        "      \n",
        "#     def predict(self, X):\n",
        "#       meta_features = np.column_stack([np.column_stack([model.predict(X) for model in base_models]).mean(axis=1)\n",
        "#                                       for base_models in self.base_models_])\n",
        "      \n",
        "#       return self.meta_model_.predict(meta_features)\n",
        "      "
      ],
      "execution_count": 0,
      "outputs": []
    },
    {
      "cell_type": "code",
      "metadata": {
        "id": "i28tIz5_JNNq",
        "colab_type": "code",
        "colab": {}
      },
      "source": [
        "class StackingAveragedModels(BaseEstimator, RegressorMixin, TransformerMixin):\n",
        "    def __init__(self, base_models, meta_model, n_folds=5):\n",
        "        self.base_models = base_models\n",
        "        self.meta_model = meta_model\n",
        "        self.n_folds = n_folds\n",
        "   \n",
        "    # We again fit the data on clones of the original models\n",
        "    def fit(self, X, y):\n",
        "        self.base_models_ = [list() for x in self.base_models]\n",
        "        self.meta_model_ = clone(self.meta_model)\n",
        "        kfold = KFold(n_splits=self.n_folds, shuffle=True, random_state=156)\n",
        "        \n",
        "        # Train cloned base models then create out-of-fold predictions\n",
        "        # that are needed to train the cloned meta-model\n",
        "        out_of_fold_predictions = np.zeros((X.shape[0], len(self.base_models)))\n",
        "        for i, model in enumerate(self.base_models):\n",
        "            for train_index, holdout_index in kfold.split(X, y):\n",
        "                instance = clone(model)\n",
        "                self.base_models_[i].append(instance)\n",
        "                instance.fit(X[train_index], y[train_index])\n",
        "                y_pred = instance.predict(X[holdout_index])\n",
        "                out_of_fold_predictions[holdout_index, i] = y_pred\n",
        "                \n",
        "        # Now train the cloned  meta-model using the out-of-fold predictions as new feature\n",
        "        self.meta_model_.fit(out_of_fold_predictions, y)\n",
        "        return self\n",
        "   \n",
        "    #Do the predictions of all base models on the test data and use the averaged predictions as \n",
        "    #meta-features for the final prediction which is done by the meta-model\n",
        "    def predict(self, X):\n",
        "        meta_features = np.column_stack([\n",
        "            np.column_stack([model.predict(X) for model in base_models]).mean(axis=1)\n",
        "            for base_models in self.base_models_ ])\n",
        "        return self.meta_model_.predict(meta_features)"
      ],
      "execution_count": 0,
      "outputs": []
    },
    {
      "cell_type": "markdown",
      "metadata": {
        "id": "F4wBJ2GHHmIE",
        "colab_type": "text"
      },
      "source": [
        "#### Stacking Averaged Models Score"
      ]
    },
    {
      "cell_type": "code",
      "metadata": {
        "id": "_OfvgMLaHp1H",
        "colab_type": "code",
        "colab": {
          "base_uri": "https://localhost:8080/",
          "height": 33
        },
        "outputId": "7ed52dd6-05b2-4079-b4c5-b3bb191d3859"
      },
      "source": [
        "stacked_averaged_models = StackingAveragedModels(base_models = (ENet, GBoost, KRR),\n",
        "                                                 meta_model = lasso)\n",
        "\n",
        "score = rmsle_cv(stacked_averaged_models)\n",
        "print(\"Stacking Averaged models score: {:.4f} ({:.4f})\".format(score.mean(), score.std()))"
      ],
      "execution_count": 139,
      "outputs": [
        {
          "output_type": "stream",
          "text": [
            "Stacking Averaged models score: 0.0008 (0.0000)\n"
          ],
          "name": "stdout"
        }
      ]
    },
    {
      "cell_type": "markdown",
      "metadata": {
        "id": "pfGDpXyyJcu0",
        "colab_type": "text"
      },
      "source": [
        "### Ensembling StackedRegressor, XGBoost and LightGBM"
      ]
    },
    {
      "cell_type": "code",
      "metadata": {
        "id": "FlzMmFCMIDjr",
        "colab_type": "code",
        "colab": {}
      },
      "source": [
        "def rmsle(y, y_pred):\n",
        "  return np.sqrt(mean_squared_error(y, y_pred))"
      ],
      "execution_count": 0,
      "outputs": []
    },
    {
      "cell_type": "markdown",
      "metadata": {
        "id": "BaGYBpAIJwfO",
        "colab_type": "text"
      },
      "source": [
        "### Final Training and Prediction\n",
        "\n",
        "#### StackedRegressor"
      ]
    },
    {
      "cell_type": "code",
      "metadata": {
        "id": "MdF7AYzWJ1Oh",
        "colab_type": "code",
        "colab": {
          "base_uri": "https://localhost:8080/",
          "height": 33
        },
        "outputId": "c535ab91-fad3-4c1b-e21e-a6d3a353a766"
      },
      "source": [
        "stacked_averaged_models.fit(train.values, y_train)\n",
        "stacked_train_pred = stacked_averaged_models.predict(train.values)\n",
        "stacked_pred = np.expm1(stacked_averaged_models.predict(test.values))\n",
        "print(rmsle(y_train, stacked_train_pred))"
      ],
      "execution_count": 141,
      "outputs": [
        {
          "output_type": "stream",
          "text": [
            "0.0007821376248879492\n"
          ],
          "name": "stdout"
        }
      ]
    },
    {
      "cell_type": "markdown",
      "metadata": {
        "id": "bp3vutViKWLc",
        "colab_type": "text"
      },
      "source": [
        "#### Boost:\n",
        "\n"
      ]
    },
    {
      "cell_type": "code",
      "metadata": {
        "id": "pIUw0Sy9KCPW",
        "colab_type": "code",
        "colab": {
          "base_uri": "https://localhost:8080/",
          "height": 33
        },
        "outputId": "2a565d4d-b001-4d87-b8fa-c136a40ff9ad"
      },
      "source": [
        "model_xgb.fit(train,y_train)\n",
        "xgb_train_pred = model_xgb.predict(train)\n",
        "xgb_pred = np.expm1(model_xgb.predict(test))\n",
        "print(rmsle(y_train, xgb_train_pred))"
      ],
      "execution_count": 143,
      "outputs": [
        {
          "output_type": "stream",
          "text": [
            "0.0010410482616287616\n"
          ],
          "name": "stdout"
        }
      ]
    },
    {
      "cell_type": "markdown",
      "metadata": {
        "id": "WWpEt8OeKPPM",
        "colab_type": "text"
      },
      "source": [
        "#### LightGBM:"
      ]
    },
    {
      "cell_type": "code",
      "metadata": {
        "id": "CWj5ekCMKb5-",
        "colab_type": "code",
        "colab": {
          "base_uri": "https://localhost:8080/",
          "height": 33
        },
        "outputId": "8811e39a-17b9-4e28-9117-a912aeaaca60"
      },
      "source": [
        "model_lgb.fit(train, y_train)\n",
        "lgb_train_pred = model_lgb.predict(train)\n",
        "lgb_pred = np.expm1(model_lgb.predict(test.values))\n",
        "print(rmsle(y_train, lgb_train_pred))"
      ],
      "execution_count": 144,
      "outputs": [
        {
          "output_type": "stream",
          "text": [
            "0.00016543187173388994\n"
          ],
          "name": "stdout"
        }
      ]
    },
    {
      "cell_type": "code",
      "metadata": {
        "id": "8rfBAPubKec2",
        "colab_type": "code",
        "colab": {
          "base_uri": "https://localhost:8080/",
          "height": 50
        },
        "outputId": "0072dbd0-c82f-4fb2-d759-562ce509e5f9"
      },
      "source": [
        "'''RMSE on the entire Train data when averaging'''\n",
        "\n",
        "print('RMSLE score on train data:')\n",
        "print(rmsle(y_train,stacked_train_pred*0.70 +\n",
        "               xgb_train_pred*0.15 + lgb_train_pred*0.15 ))"
      ],
      "execution_count": 145,
      "outputs": [
        {
          "output_type": "stream",
          "text": [
            "RMSLE score on train data:\n",
            "0.0006866522819533586\n"
          ],
          "name": "stdout"
        }
      ]
    },
    {
      "cell_type": "code",
      "metadata": {
        "id": "dLv6muBlKiMk",
        "colab_type": "code",
        "colab": {}
      },
      "source": [
        ""
      ],
      "execution_count": 0,
      "outputs": []
    }
  ]
}